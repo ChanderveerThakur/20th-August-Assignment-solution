{
 "cells": [
  {
   "cell_type": "markdown",
   "id": "efdad5f5",
   "metadata": {},
   "source": [
    "1. Write a program to reverse a string."
   ]
  },
  {
   "cell_type": "code",
   "execution_count": 1,
   "id": "c74b3aae",
   "metadata": {},
   "outputs": [
    {
     "name": "stdout",
     "output_type": "stream",
     "text": [
      "emaN\n"
     ]
    }
   ],
   "source": [
    "a = \"Name\"\n",
    "print(a[: : -1])"
   ]
  },
  {
   "cell_type": "code",
   "execution_count": null,
   "id": "9d1e259a",
   "metadata": {},
   "outputs": [],
   "source": []
  },
  {
   "cell_type": "markdown",
   "id": "de71e179",
   "metadata": {},
   "source": [
    "2. Check if a string is a palindrome.\n"
   ]
  },
  {
   "cell_type": "code",
   "execution_count": 4,
   "id": "cafc69b5",
   "metadata": {},
   "outputs": [
    {
     "name": "stdout",
     "output_type": "stream",
     "text": [
      "Enter the string:    mada  m   \n",
      "True\n"
     ]
    }
   ],
   "source": [
    "string = input(\"Enter the string: \")\n",
    "st = string.replace(\" \", \"\")\n",
    "lower_string = st.lower() # to avoid mistake where user make first alphabet in capital\n",
    "palindrome = lower_string[: : -1]\n",
    "if palindrome == lower_string:\n",
    "    print (True)\n",
    "else:\n",
    "    print (False)"
   ]
  },
  {
   "cell_type": "markdown",
   "id": "e4898264",
   "metadata": {},
   "source": [
    "3. Convert a string to uppercase.\n"
   ]
  },
  {
   "cell_type": "code",
   "execution_count": 2,
   "id": "6deb1098",
   "metadata": {},
   "outputs": [
    {
     "name": "stdout",
     "output_type": "stream",
     "text": [
      "UPPERCASE\n"
     ]
    }
   ],
   "source": [
    "u = \"uppercase\"\n",
    "print(u.upper())"
   ]
  },
  {
   "cell_type": "markdown",
   "id": "47b01d6a",
   "metadata": {},
   "source": [
    "4. Convert a string to lowercase.\n"
   ]
  },
  {
   "cell_type": "code",
   "execution_count": 4,
   "id": "c2556a62",
   "metadata": {},
   "outputs": [
    {
     "name": "stdout",
     "output_type": "stream",
     "text": [
      "lowercase\n"
     ]
    }
   ],
   "source": [
    "l = \"LOWERCASE\"\n",
    "print(l.lower())"
   ]
  },
  {
   "cell_type": "markdown",
   "id": "f8ae3cf1",
   "metadata": {},
   "source": [
    "5. Count the number of vowels in a string.\n"
   ]
  },
  {
   "cell_type": "code",
   "execution_count": 5,
   "id": "81c42fdb",
   "metadata": {},
   "outputs": [
    {
     "name": "stdout",
     "output_type": "stream",
     "text": [
      "Enter the string: aeiou\n",
      "5\n"
     ]
    }
   ],
   "source": [
    "string = input(\"Enter the string: \")\n",
    "vowels = 'aeiouAEIOU'\n",
    "count  = 0\n",
    "for i in string:\n",
    "    if i in vowels:\n",
    "        count = count + 1\n",
    "print (count)"
   ]
  },
  {
   "cell_type": "markdown",
   "id": "a2b71558",
   "metadata": {},
   "source": [
    "6. Count the number of consonants in a string.\n"
   ]
  },
  {
   "cell_type": "code",
   "execution_count": 7,
   "id": "59f09fd0",
   "metadata": {},
   "outputs": [
    {
     "name": "stdout",
     "output_type": "stream",
     "text": [
      "Enter a String:   11 qw\n",
      "2\n"
     ]
    }
   ],
   "source": [
    "string = input('Enter a String: ')\n",
    "\n",
    "consonants = \"bcdfghjklmnpqrstvwxyzBCDFGHJKLMNPQRSTVWXYZ\"\n",
    "\n",
    "count = 0\n",
    "\n",
    "for i in string:\n",
    "    if i in consonants:\n",
    "        count = count + 1\n",
    "print(count)"
   ]
  },
  {
   "cell_type": "markdown",
   "id": "4609306c",
   "metadata": {},
   "source": [
    "7. Remove all whitespaces from a string.\n"
   ]
  },
  {
   "cell_type": "code",
   "execution_count": 3,
   "id": "ba20d626",
   "metadata": {},
   "outputs": [
    {
     "name": "stdout",
     "output_type": "stream",
     "text": [
      "Enter the string:    hi my name is    khan\n",
      "himynameiskhan\n"
     ]
    }
   ],
   "source": [
    "string = input(\"Enter the string: \")\n",
    "print(string.replace(\" \",\"\"))"
   ]
  },
  {
   "cell_type": "markdown",
   "id": "203a5c33",
   "metadata": {},
   "source": [
    "8. Find the length of a string without using the `len()` function.\n"
   ]
  },
  {
   "cell_type": "code",
   "execution_count": 8,
   "id": "e82668c6",
   "metadata": {},
   "outputs": [
    {
     "name": "stdout",
     "output_type": "stream",
     "text": [
      "Enter a String: qwe er\n",
      "6\n"
     ]
    }
   ],
   "source": [
    "b = input('Enter a String: ')\n",
    "count = 0 \n",
    "for i in b: \n",
    "    count = count + 1\n",
    "print(count)\n",
    "\n"
   ]
  },
  {
   "cell_type": "markdown",
   "id": "b4e54d75",
   "metadata": {},
   "source": [
    "9. Check if a string contains a specific word.\n"
   ]
  },
  {
   "cell_type": "code",
   "execution_count": 4,
   "id": "89ebc4b3",
   "metadata": {},
   "outputs": [
    {
     "name": "stdout",
     "output_type": "stream",
     "text": [
      "Enter the word: python\n",
      "True\n"
     ]
    }
   ],
   "source": [
    "a = \" My name is python programming language \"\n",
    "b = input(\"Enter the word: \")\n",
    "if b in a:\n",
    "    print(True)\n",
    "else:\n",
    "    print(False)"
   ]
  },
  {
   "cell_type": "markdown",
   "id": "f09cbb97",
   "metadata": {},
   "source": [
    "10. Replace a word in a string with another word.\n"
   ]
  },
  {
   "cell_type": "code",
   "execution_count": 4,
   "id": "6802a04b",
   "metadata": {},
   "outputs": [
    {
     "data": {
      "text/plain": [
       "'Hi world!'"
      ]
     },
     "execution_count": 4,
     "metadata": {},
     "output_type": "execute_result"
    }
   ],
   "source": [
    "a = \"Hello world!\"\n",
    "a.replace(\"Hello\" , 'Hi') # hello will be replaced by hi.\n"
   ]
  },
  {
   "cell_type": "markdown",
   "id": "6985b90c",
   "metadata": {},
   "source": [
    "11. Count the occurrences of a word in a string.\n"
   ]
  },
  {
   "cell_type": "code",
   "execution_count": 2,
   "id": "24e6369f",
   "metadata": {},
   "outputs": [
    {
     "name": "stdout",
     "output_type": "stream",
     "text": [
      "Enter the string: this is a python python programming language\n",
      "Enter the word : python\n",
      "2\n"
     ]
    }
   ],
   "source": [
    "string = input(\"Enter the string: \")\n",
    "count_word = input(\"Enter the word : \")\n",
    "count = 0\n",
    "\n",
    "string2 = string.split()\n",
    "\n",
    "for i in string2:\n",
    "    if i == count_word:\n",
    "        count= count + 1\n",
    "    else:\n",
    "        count = count\n",
    "print(count)\n",
    "\n",
    "        \n",
    "    \n",
    "    \n",
    "    "
   ]
  },
  {
   "cell_type": "markdown",
   "id": "ed908b74",
   "metadata": {},
   "source": [
    "12. Find the first occurrence of a word in a string.\n"
   ]
  },
  {
   "cell_type": "code",
   "execution_count": 6,
   "id": "ecf6b479",
   "metadata": {},
   "outputs": [
    {
     "name": "stdout",
     "output_type": "stream",
     "text": [
      "Enter the string: python programming\n",
      "Enter the word: p\n",
      "0\n"
     ]
    }
   ],
   "source": [
    "string = input(\"Enter the string: \")\n",
    "word =input(\"Enter the word: \") \n",
    "\n",
    "index = string.find(word)\n",
    "\n",
    "if index == -1:\n",
    "    print(None)\n",
    "    \n",
    "    \n",
    "    \n",
    "print(index)"
   ]
  },
  {
   "cell_type": "markdown",
   "id": "a123bb6d",
   "metadata": {},
   "source": [
    "13. Find the last occurrence of a word in a string.\n"
   ]
  },
  {
   "cell_type": "code",
   "execution_count": 9,
   "id": "14b4e450",
   "metadata": {},
   "outputs": [
    {
     "name": "stdout",
     "output_type": "stream",
     "text": [
      "Enter the string: pyhton pro\n",
      "Enter the word: o\n",
      "9\n"
     ]
    }
   ],
   "source": [
    "string = input(\"Enter the string: \")\n",
    "word =input(\"Enter the word: \") \n",
    "\n",
    "index = string.rfind(word)\n",
    "\n",
    "if index == -1:\n",
    "    print(None)\n",
    "    \n",
    "    \n",
    "print(index)"
   ]
  },
  {
   "cell_type": "markdown",
   "id": "0e892cfe",
   "metadata": {},
   "source": [
    "14. Split a string into a list of words.\n"
   ]
  },
  {
   "cell_type": "code",
   "execution_count": 51,
   "id": "f69c6402",
   "metadata": {},
   "outputs": [
    {
     "name": "stdout",
     "output_type": "stream",
     "text": [
      "['Split', 'a', 'string', 'into', 'list', 'of', 'words']\n"
     ]
    }
   ],
   "source": [
    "a = \"Split a string into list of words\"\n",
    "print(a.split(\" \"))"
   ]
  },
  {
   "cell_type": "markdown",
   "id": "86222957",
   "metadata": {},
   "source": [
    "# OR"
   ]
  },
  {
   "cell_type": "code",
   "execution_count": 54,
   "id": "995b7009",
   "metadata": {},
   "outputs": [
    {
     "name": "stdout",
     "output_type": "stream",
     "text": [
      "['Split', 'a', 'string', 'into', 'list', 'of', 'words']\n"
     ]
    }
   ],
   "source": [
    "a = \"Split a string into list of words\"\n",
    "b = a.split(\" \")\n",
    "l = []\n",
    "for i in b:\n",
    "    l.append(i)\n",
    "print(l)"
   ]
  },
  {
   "cell_type": "markdown",
   "id": "633294ba",
   "metadata": {},
   "source": [
    "15. Join a list of words into a string.\n"
   ]
  },
  {
   "cell_type": "code",
   "execution_count": 59,
   "id": "b5f5b557",
   "metadata": {},
   "outputs": [
    {
     "data": {
      "text/plain": [
       "'this is a list'"
      ]
     },
     "execution_count": 59,
     "metadata": {},
     "output_type": "execute_result"
    }
   ],
   "source": [
    "l = ['this' ' is', ' a', ' list']\n",
    "a = ''\n",
    "a.join(l)"
   ]
  },
  {
   "cell_type": "markdown",
   "id": "e8d742f6",
   "metadata": {},
   "source": [
    "16. Convert a string where words are separated by spaces to one where words\n",
    "are separated by underscores."
   ]
  },
  {
   "cell_type": "code",
   "execution_count": 11,
   "id": "fe4b12f2",
   "metadata": {},
   "outputs": [
    {
     "data": {
      "text/plain": [
       "'words_separated_by_spaces'"
      ]
     },
     "execution_count": 11,
     "metadata": {},
     "output_type": "execute_result"
    }
   ],
   "source": [
    "string = 'words separated by spaces'\n",
    "string.replace(\" \", \"_\")"
   ]
  },
  {
   "cell_type": "markdown",
   "id": "9592663a",
   "metadata": {},
   "source": [
    "17. Check if a string starts with a specific word or phrase.\n"
   ]
  },
  {
   "cell_type": "code",
   "execution_count": 14,
   "id": "e7182b07",
   "metadata": {},
   "outputs": [
    {
     "name": "stdout",
     "output_type": "stream",
     "text": [
      "Enter the word: check\n"
     ]
    },
    {
     "data": {
      "text/plain": [
       "True"
      ]
     },
     "execution_count": 14,
     "metadata": {},
     "output_type": "execute_result"
    }
   ],
   "source": [
    "s = \"check if a string starts with the specific word or phrase\"\n",
    "prefix = input(\"Enter the word: \")\n",
    "s.startswith(prefix)"
   ]
  },
  {
   "cell_type": "markdown",
   "id": "f22555d1",
   "metadata": {},
   "source": [
    "18. Check if a string ends with a specific word or phrase.\n"
   ]
  },
  {
   "cell_type": "code",
   "execution_count": 13,
   "id": "077e3ebc",
   "metadata": {},
   "outputs": [
    {
     "name": "stdout",
     "output_type": "stream",
     "text": [
      "Enter the word: e\n"
     ]
    },
    {
     "data": {
      "text/plain": [
       "True"
      ]
     },
     "execution_count": 13,
     "metadata": {},
     "output_type": "execute_result"
    }
   ],
   "source": [
    "s = \"check if a string ends with the specific word or phrase\"\n",
    "suffix = input(\"Enter the word: \")\n",
    "s.endswith(sufffix)"
   ]
  },
  {
   "cell_type": "markdown",
   "id": "650d031f",
   "metadata": {},
   "source": [
    "19. Convert a string to title case (e.g., \"hello world\" to \"Hello World\").\n"
   ]
  },
  {
   "cell_type": "code",
   "execution_count": 68,
   "id": "981beb64",
   "metadata": {},
   "outputs": [
    {
     "data": {
      "text/plain": [
       "'Hello World'"
      ]
     },
     "execution_count": 68,
     "metadata": {},
     "output_type": "execute_result"
    }
   ],
   "source": [
    "a = \"hello world\"\n",
    "a.title()"
   ]
  },
  {
   "cell_type": "markdown",
   "id": "3d4232d7",
   "metadata": {},
   "source": [
    "20. Find the longest word in a string.\n"
   ]
  },
  {
   "cell_type": "code",
   "execution_count": 78,
   "id": "a278fa95",
   "metadata": {},
   "outputs": [
    {
     "data": {
      "text/plain": [
       "'finding'"
      ]
     },
     "execution_count": 78,
     "metadata": {},
     "output_type": "execute_result"
    }
   ],
   "source": [
    "a = \"finding the longest word in this string\"\n",
    "l = a.split()\n",
    "longest_word = max(l , key = len)\n",
    "longest_word\n"
   ]
  },
  {
   "cell_type": "markdown",
   "id": "af152721",
   "metadata": {},
   "source": [
    "21. Find the shortest word in a string.\n"
   ]
  },
  {
   "cell_type": "code",
   "execution_count": 79,
   "id": "beb6faed",
   "metadata": {},
   "outputs": [
    {
     "data": {
      "text/plain": [
       "'in'"
      ]
     },
     "execution_count": 79,
     "metadata": {},
     "output_type": "execute_result"
    }
   ],
   "source": [
    "a = \"finding the longest word in this string\"\n",
    "l = a.split()\n",
    "shortest_word = min(l , key = len)\n",
    "shortest_word\n"
   ]
  },
  {
   "cell_type": "markdown",
   "id": "cb70d78e",
   "metadata": {},
   "source": [
    "22. Reverse the order of words in a string.\n"
   ]
  },
  {
   "cell_type": "code",
   "execution_count": 83,
   "id": "1bf6bcbe",
   "metadata": {},
   "outputs": [
    {
     "data": {
      "text/plain": [
       "['string', 'this', 'in', 'words', 'of', 'order', 'the', 'reverse']"
      ]
     },
     "execution_count": 83,
     "metadata": {},
     "output_type": "execute_result"
    }
   ],
   "source": [
    "s = \"reverse the order of words in this string\"\n",
    "l = s.split()\n",
    "l.reverse()\n",
    "l"
   ]
  },
  {
   "cell_type": "markdown",
   "id": "6b41227b",
   "metadata": {},
   "source": [
    "23. Check if a string is alphanumeric.\n"
   ]
  },
  {
   "cell_type": "code",
   "execution_count": 14,
   "id": "bcd50192",
   "metadata": {},
   "outputs": [
    {
     "name": "stdout",
     "output_type": "stream",
     "text": [
      "True\n"
     ]
    }
   ],
   "source": [
    "bb = 'string11'\n",
    "print(bb.isalnum())   "
   ]
  },
  {
   "cell_type": "markdown",
   "id": "91b2d374",
   "metadata": {},
   "source": [
    "24. Extract all digits from a string.\n"
   ]
  },
  {
   "cell_type": "code",
   "execution_count": 25,
   "id": "ee2fbe43",
   "metadata": {},
   "outputs": [
    {
     "name": "stdout",
     "output_type": "stream",
     "text": [
      "1\n",
      "0\n",
      "2\n",
      "0\n"
     ]
    }
   ],
   "source": [
    "a = \"extractingdigit1020\"\n",
    "for i in a:\n",
    "    if i.isnumeric():\n",
    "        print(i)"
   ]
  },
  {
   "cell_type": "markdown",
   "id": "8dcee485",
   "metadata": {},
   "source": [
    "25. Extract all alphabets from a string.\n"
   ]
  },
  {
   "cell_type": "code",
   "execution_count": 2,
   "id": "6caba619",
   "metadata": {},
   "outputs": [
    {
     "name": "stdout",
     "output_type": "stream",
     "text": [
      "e  x  t  r  a  c  t  i  n  g  a  l  p  h  a  b  e  t  s  "
     ]
    }
   ],
   "source": [
    "a = 'extracting_alphabets123'\n",
    "for i in a:\n",
    "    if i.isalpha():\n",
    "        print(i , end = \"  \")"
   ]
  },
  {
   "cell_type": "markdown",
   "id": "00a81490",
   "metadata": {},
   "source": [
    "26. Count the number of uppercase letters in a string.\n"
   ]
  },
  {
   "cell_type": "code",
   "execution_count": 29,
   "id": "a17a396d",
   "metadata": {},
   "outputs": [
    {
     "name": "stdout",
     "output_type": "stream",
     "text": [
      "5\n"
     ]
    }
   ],
   "source": [
    "a = \"UPPercase leTTers\"\n",
    "count = 0\n",
    "for i in a:\n",
    "    if i.isupper():\n",
    "        count = count + 1\n",
    "print(count)\n"
   ]
  },
  {
   "cell_type": "markdown",
   "id": "3bf3d718",
   "metadata": {},
   "source": [
    "27. Count the number of lowercase letters in a string.\n"
   ]
  },
  {
   "cell_type": "code",
   "execution_count": 31,
   "id": "d5186ccf",
   "metadata": {},
   "outputs": [
    {
     "name": "stdout",
     "output_type": "stream",
     "text": [
      "9\n"
     ]
    }
   ],
   "source": [
    "a = \"CounTING letterS\"\n",
    "count = 0\n",
    "for i in a:\n",
    "    if i.islower():\n",
    "        count = count + 1\n",
    "print(count)"
   ]
  },
  {
   "cell_type": "markdown",
   "id": "b2db6671",
   "metadata": {},
   "source": [
    "28. Swap the case of each character in a string.\n"
   ]
  },
  {
   "cell_type": "code",
   "execution_count": 35,
   "id": "055d236b",
   "metadata": {},
   "outputs": [
    {
     "name": "stdout",
     "output_type": "stream",
     "text": [
      "Enter the string: STRing\n",
      "s\n",
      "t\n",
      "r\n",
      "I\n",
      "N\n",
      "G\n"
     ]
    }
   ],
   "source": [
    "a = input(\"Enter the string: \")\n",
    "for i in a:\n",
    "    if i.isupper():\n",
    "        print(i.lower())\n",
    "    else:\n",
    "        print(i.upper())"
   ]
  },
  {
   "cell_type": "markdown",
   "id": "b755ce4a",
   "metadata": {},
   "source": [
    "29. Remove a specific word from a string.\n"
   ]
  },
  {
   "cell_type": "code",
   "execution_count": 1,
   "id": "0c2d4f22",
   "metadata": {},
   "outputs": [
    {
     "name": "stdout",
     "output_type": "stream",
     "text": [
      "Enter the word you want to remove from above string: this\n",
      "Removing a specific word from string\n"
     ]
    }
   ],
   "source": [
    "a = 'Removing a specific word from this string'\n",
    "b = input(\"Enter the word you want to remove from above string: \")\n",
    "print(a.replace(b , \"\"))"
   ]
  },
  {
   "cell_type": "markdown",
   "id": "c8c9dba3",
   "metadata": {},
   "source": [
    "30. Check if a string is a valid email address."
   ]
  },
  {
   "cell_type": "code",
   "execution_count": 8,
   "id": "6a70ae47",
   "metadata": {},
   "outputs": [
    {
     "name": "stdout",
     "output_type": "stream",
     "text": [
      "True\n"
     ]
    }
   ],
   "source": [
    "import re\n",
    "\n",
    "def is_valid_email(email):\n",
    "    pattern = r\"^[a-zA-Z0-9_.+-]+@[a-zA-Z0-9-]+\\.[a-zA-Z0-9-.]+$\"\n",
    "    \n",
    "    return re.match(pattern, email) is not None\n",
    "\n",
    "email = \"example@email.com\"\n",
    "print(is_valid_email(email))  \n"
   ]
  },
  {
   "cell_type": "markdown",
   "id": "de446e47",
   "metadata": {},
   "source": [
    "31. Extract the username from an email address string."
   ]
  },
  {
   "cell_type": "code",
   "execution_count": 4,
   "id": "909ab19e",
   "metadata": {},
   "outputs": [
    {
     "data": {
      "text/plain": [
       "'example'"
      ]
     },
     "execution_count": 4,
     "metadata": {},
     "output_type": "execute_result"
    }
   ],
   "source": [
    "email = \"example@email.com\"\n",
    "email.split('@')[0]"
   ]
  },
  {
   "cell_type": "markdown",
   "id": "cf1e1367",
   "metadata": {},
   "source": [
    "32. Extract the domain name from an email address string"
   ]
  },
  {
   "cell_type": "code",
   "execution_count": 5,
   "id": "f1e5103f",
   "metadata": {},
   "outputs": [
    {
     "data": {
      "text/plain": [
       "'email.com'"
      ]
     },
     "execution_count": 5,
     "metadata": {},
     "output_type": "execute_result"
    }
   ],
   "source": [
    "email = \"example@email.com\"\n",
    "email.split('@')[1]"
   ]
  },
  {
   "cell_type": "markdown",
   "id": "c10c5f11",
   "metadata": {},
   "source": [
    "33. Replace multiple spaces in a string with a single space.\n"
   ]
  },
  {
   "cell_type": "code",
   "execution_count": 11,
   "id": "a987bb36",
   "metadata": {},
   "outputs": [
    {
     "data": {
      "text/plain": [
       "'this is a string'"
      ]
     },
     "execution_count": 11,
     "metadata": {},
     "output_type": "execute_result"
    }
   ],
   "source": [
    "string = \" this   is    a string   \"\n",
    "string2 = string.split()\n",
    "output = \" \"\n",
    "output = output.join(string2)\n",
    "output"
   ]
  },
  {
   "cell_type": "markdown",
   "id": "93c92ff6",
   "metadata": {},
   "source": [
    "35. Extract the protocol (http or https) from a URL string.\n"
   ]
  },
  {
   "cell_type": "code",
   "execution_count": 16,
   "id": "fe1e0718",
   "metadata": {},
   "outputs": [
    {
     "name": "stdout",
     "output_type": "stream",
     "text": [
      "http\n"
     ]
    }
   ],
   "source": [
    "url = \"http://www.example.com\"\n",
    "protocol = url.find('://')\n",
    "if protocol != -1 :\n",
    "    print (url[: protocol])\n",
    "else:\n",
    "    None\n"
   ]
  },
  {
   "cell_type": "markdown",
   "id": "80d11798",
   "metadata": {},
   "source": [
    "36. Find the frequency of each character in a string"
   ]
  },
  {
   "cell_type": "code",
   "execution_count": 1,
   "id": "bab53c07",
   "metadata": {},
   "outputs": [
    {
     "name": "stdout",
     "output_type": "stream",
     "text": [
      "{'h': 1, 'e': 1, 'l': 2, 'o': 1}\n"
     ]
    }
   ],
   "source": [
    "def character_frequency(s):\n",
    "    frequency = {}  \n",
    "\n",
    "    for char in s:\n",
    "        if char in frequency:\n",
    "            frequency[char] += 1  \n",
    "        else:\n",
    "            frequency[char] = 1  \n",
    "    return frequency\n",
    "\n",
    "s = \"hello\"\n",
    "print(character_frequency(s))\n"
   ]
  },
  {
   "cell_type": "markdown",
   "id": "3950fdfa",
   "metadata": {},
   "source": [
    "37. Remove all punctuation from a string.\n"
   ]
  },
  {
   "cell_type": "code",
   "execution_count": 9,
   "id": "8883bada",
   "metadata": {},
   "outputs": [
    {
     "name": "stdout",
     "output_type": "stream",
     "text": [
      "Hello world\n"
     ]
    }
   ],
   "source": [
    "import string\n",
    "\n",
    "def remove_punctuation(s):\n",
    "    return ''.join(char for char in s if char not in string.punctuation)\n",
    "\n",
    "\n",
    "s = \"Hello, world!\"\n",
    "print(remove_punctuation(s)) "
   ]
  },
  {
   "cell_type": "markdown",
   "id": "d468e6c4",
   "metadata": {},
   "source": [
    "38. Check if a string contains only digits"
   ]
  },
  {
   "cell_type": "code",
   "execution_count": 23,
   "id": "1522f3bd",
   "metadata": {},
   "outputs": [
    {
     "name": "stdout",
     "output_type": "stream",
     "text": [
      "Enter the string: 23d\n"
     ]
    },
    {
     "data": {
      "text/plain": [
       "False"
      ]
     },
     "execution_count": 23,
     "metadata": {},
     "output_type": "execute_result"
    }
   ],
   "source": [
    "string = input(\"Enter the string: \")\n",
    "string.isdigit()\n"
   ]
  },
  {
   "cell_type": "markdown",
   "id": "ef4ff72b",
   "metadata": {},
   "source": [
    "39. Check if a string contains only alphabets"
   ]
  },
  {
   "cell_type": "code",
   "execution_count": 28,
   "id": "dcdd7821",
   "metadata": {},
   "outputs": [
    {
     "name": "stdout",
     "output_type": "stream",
     "text": [
      "Enter the string:wafd\n"
     ]
    },
    {
     "data": {
      "text/plain": [
       "True"
      ]
     },
     "execution_count": 28,
     "metadata": {},
     "output_type": "execute_result"
    }
   ],
   "source": [
    "string = input(\"Enter the string:\" ) \n",
    "string.isalpha()"
   ]
  },
  {
   "cell_type": "markdown",
   "id": "beb690e6",
   "metadata": {},
   "source": [
    "40. Convert a string to a list of characters"
   ]
  },
  {
   "cell_type": "code",
   "execution_count": 31,
   "id": "13c9c1c3",
   "metadata": {},
   "outputs": [
    {
     "name": "stdout",
     "output_type": "stream",
     "text": [
      "['t', 'h', 'i', 's', ' ', 'i', 's', ' ', 'a', ' ', 's', 't', 'r', 'i', 'n', 'g']\n"
     ]
    }
   ],
   "source": [
    "string = \"this is a string\"\n",
    "l = []\n",
    "for i in string:\n",
    "    l.append(i)\n",
    "print(l)"
   ]
  },
  {
   "cell_type": "markdown",
   "id": "0b632765",
   "metadata": {},
   "source": [
    "41. Check if two strings are anagrams."
   ]
  },
  {
   "cell_type": "code",
   "execution_count": 32,
   "id": "802878fa",
   "metadata": {},
   "outputs": [
    {
     "name": "stdout",
     "output_type": "stream",
     "text": [
      "Enter first word: slient\n",
      "Enter second word: listen\n",
      "True\n"
     ]
    }
   ],
   "source": [
    "st1 = input(\"Enter first word: \")\n",
    "st2 = input(\"Enter second word: \")\n",
    "if sorted(st1)==sorted(st2):\n",
    "    print (True)\n",
    "else: \n",
    "    print(False)"
   ]
  },
  {
   "cell_type": "markdown",
   "id": "85540c2e",
   "metadata": {},
   "source": [
    "42. Encode a string using a Caesar cipher.\n"
   ]
  },
  {
   "cell_type": "code",
   "execution_count": null,
   "id": "2876bdf9",
   "metadata": {},
   "outputs": [],
   "source": []
  },
  {
   "cell_type": "markdown",
   "id": "3d7f4445",
   "metadata": {},
   "source": [
    "43. Decode a Caesar cipher encoded string.\n"
   ]
  },
  {
   "cell_type": "code",
   "execution_count": null,
   "id": "6ab9e24e",
   "metadata": {},
   "outputs": [],
   "source": []
  },
  {
   "cell_type": "markdown",
   "id": "b8a495b4",
   "metadata": {},
   "source": [
    "44. Find the most frequent word in a string.\n"
   ]
  },
  {
   "cell_type": "code",
   "execution_count": 26,
   "id": "6c45ccda",
   "metadata": {},
   "outputs": [
    {
     "name": "stdout",
     "output_type": "stream",
     "text": [
      "i\n"
     ]
    }
   ],
   "source": [
    "a = \"striiingg\"\n",
    "b = {}\n",
    "for i in a:\n",
    "    if i in b:\n",
    "        b[i]+=1\n",
    "    else:\n",
    "        b[i]=1\n",
    "        \n",
    "print (max(b, key =b.get))\n",
    "    \n",
    "\n",
    "    "
   ]
  },
  {
   "cell_type": "markdown",
   "id": "a1502d57",
   "metadata": {},
   "source": [
    "45. Find all unique words in a string.\n"
   ]
  },
  {
   "cell_type": "code",
   "execution_count": 22,
   "id": "e77600e0",
   "metadata": {},
   "outputs": [
    {
     "name": "stdout",
     "output_type": "stream",
     "text": [
      "{'hello', 'the', 'is', 'beautiful', 'world', 'again'}\n"
     ]
    }
   ],
   "source": [
    "import re\n",
    "\n",
    "def unique_words(text):\n",
    "    words = re.findall(r'\\b\\w+\\b', text.lower())\n",
    "    return set(words)\n",
    "\n",
    "text = \"Hello, world! The world is beautiful. Hello again.\"\n",
    "print(unique_words(text))\n"
   ]
  },
  {
   "cell_type": "markdown",
   "id": "7df23bd9",
   "metadata": {},
   "source": [
    "46. Count the number of syllables in a string."
   ]
  },
  {
   "cell_type": "code",
   "execution_count": 24,
   "id": "02853237",
   "metadata": {},
   "outputs": [
    {
     "name": "stdout",
     "output_type": "stream",
     "text": [
      "'hello' has 2 syllables.\n",
      "'banana' has 3 syllables.\n"
     ]
    }
   ],
   "source": [
    "import re\n",
    "\n",
    "def count_syllables(word):\n",
    "    vowel_groups = re.findall(r'[aeiouy]+', word, re.IGNORECASE)\n",
    "\n",
    "    return len(vowel_groups)\n",
    "\n",
    "word1 = \"hello\"\n",
    "word2 = \"banana\"\n",
    "\n",
    "syllables1 = count_syllables(word1)\n",
    "syllables2 = count_syllables(word2)\n",
    "\n",
    "print(f\"'{word1}' has {syllables1} syllables.\")\n",
    "print(f\"'{word2}' has {syllables2} syllables.\")\n"
   ]
  },
  {
   "cell_type": "markdown",
   "id": "1e71e2bc",
   "metadata": {},
   "source": [
    "47. Check if a string contains any special characters.\n"
   ]
  },
  {
   "cell_type": "code",
   "execution_count": 26,
   "id": "0123acd7",
   "metadata": {},
   "outputs": [
    {
     "name": "stdout",
     "output_type": "stream",
     "text": [
      "True\n"
     ]
    }
   ],
   "source": [
    "import re\n",
    "\n",
    "def contains_special_characters(s):\n",
    "    if re.search(r'[^a-zA-Z0-9\\s]', s):\n",
    "        return True\n",
    "    return False\n",
    "\n",
    "text = \"Hello, world!\"\n",
    "print(contains_special_characters(text))  # Outputs: True\n"
   ]
  },
  {
   "cell_type": "markdown",
   "id": "b7670ac3",
   "metadata": {},
   "source": [
    "48. Remove the nth word from a string.\n"
   ]
  },
  {
   "cell_type": "code",
   "execution_count": 25,
   "id": "855af413",
   "metadata": {},
   "outputs": [
    {
     "name": "stdout",
     "output_type": "stream",
     "text": [
      "Hello, this is test string.\n"
     ]
    }
   ],
   "source": [
    "def remove_nth_word(text, n):\n",
    "    words = text.split()\n",
    "    if 1 <= n <= len(words):\n",
    "        del words[n-1]\n",
    "    return ' '.join(words)\n",
    "\n",
    "text = \"Hello, this is a test string.\"\n",
    "position = 4\n",
    "print(remove_nth_word(text, position))  "
   ]
  },
  {
   "cell_type": "markdown",
   "id": "ed476fd4",
   "metadata": {},
   "source": [
    "\n",
    "49. Insert a word at the nth position in a string.\n"
   ]
  },
  {
   "cell_type": "code",
   "execution_count": 27,
   "id": "e5977ede",
   "metadata": {},
   "outputs": [
    {
     "name": "stdout",
     "output_type": "stream",
     "text": [
      "Hello really this is a test.\n"
     ]
    }
   ],
   "source": [
    "def insert_nth_position(text, n, word_to_insert):\n",
    "    words = text.split()\n",
    "    if 1 <= n <= len(words) + 1:\n",
    "        words.insert(n - 1, word_to_insert)\n",
    "    return ' '.join(words)\n",
    "\n",
    "text = \"Hello this is a test.\"\n",
    "position = 2\n",
    "new_word = \"really\"\n",
    "print(insert_nth_position(text, position, new_word))\n"
   ]
  },
  {
   "cell_type": "markdown",
   "id": "5ecd54ce",
   "metadata": {},
   "source": [
    "50. Convert a CSV string to a list of lists.\n"
   ]
  },
  {
   "cell_type": "code",
   "execution_count": null,
   "id": "07a01873",
   "metadata": {},
   "outputs": [],
   "source": []
  },
  {
   "cell_type": "code",
   "execution_count": null,
   "id": "de66b995",
   "metadata": {},
   "outputs": [],
   "source": []
  },
  {
   "cell_type": "code",
   "execution_count": null,
   "id": "526ff78b",
   "metadata": {},
   "outputs": [],
   "source": []
  },
  {
   "cell_type": "code",
   "execution_count": null,
   "id": "6be402ee",
   "metadata": {},
   "outputs": [],
   "source": []
  },
  {
   "cell_type": "code",
   "execution_count": null,
   "id": "a58f6ac6",
   "metadata": {},
   "outputs": [],
   "source": []
  },
  {
   "cell_type": "markdown",
   "id": "0b47c7bf",
   "metadata": {},
   "source": [
    "# List Based Practice Problem :\n"
   ]
  },
  {
   "cell_type": "markdown",
   "id": "017c8bb7",
   "metadata": {},
   "source": [
    "1. Create a list with integers from 1 to 10.\n",
    "2. Find the length of a list without using the `len()` function."
   ]
  },
  {
   "cell_type": "code",
   "execution_count": 17,
   "id": "c3c7bf14",
   "metadata": {},
   "outputs": [
    {
     "name": "stdout",
     "output_type": "stream",
     "text": [
      "10\n"
     ]
    }
   ],
   "source": [
    "l = [1,2,3,4,5,6,7,8,9,10]\n",
    "c = 0\n",
    "for i in l:\n",
    "    c = c+ 1\n",
    "print(c)"
   ]
  },
  {
   "cell_type": "markdown",
   "id": "86f4ddf1",
   "metadata": {},
   "source": [
    "3. Append an element to the end of a list.\n"
   ]
  },
  {
   "cell_type": "code",
   "execution_count": 18,
   "id": "b0478339",
   "metadata": {},
   "outputs": [
    {
     "data": {
      "text/plain": [
       "[1, 2, 3, 4, 5, 6, 7, 8, 9, 10, 11]"
      ]
     },
     "execution_count": 18,
     "metadata": {},
     "output_type": "execute_result"
    }
   ],
   "source": [
    "l = [1,2,3,4,5,6,7,8,9,10]\n",
    "l.append(11)\n",
    "l"
   ]
  },
  {
   "cell_type": "markdown",
   "id": "187bc7d0",
   "metadata": {},
   "source": [
    "4. Insert an element at a specific index in a list.\n"
   ]
  },
  {
   "cell_type": "code",
   "execution_count": 19,
   "id": "1fd529f6",
   "metadata": {},
   "outputs": [
    {
     "data": {
      "text/plain": [
       "[0, 1, 2, 3, 4, 5, 6, 7, 8, 9, 10]"
      ]
     },
     "execution_count": 19,
     "metadata": {},
     "output_type": "execute_result"
    }
   ],
   "source": [
    "l = [1,2,3,4,5,6,7,8,9,10]\n",
    "l.insert(0,0)\n",
    "l"
   ]
  },
  {
   "cell_type": "markdown",
   "id": "3104c849",
   "metadata": {},
   "source": [
    "5. Remove an element from a list by its value.\n"
   ]
  },
  {
   "cell_type": "code",
   "execution_count": 20,
   "id": "996c2680",
   "metadata": {},
   "outputs": [
    {
     "data": {
      "text/plain": [
       "[1, 2, 3, 4, 6, 7, 8, 9, 10]"
      ]
     },
     "execution_count": 20,
     "metadata": {},
     "output_type": "execute_result"
    }
   ],
   "source": [
    "l = [1,2,3,4,5,6,7,8,9,10]\n",
    "l.remove(5)\n",
    "l"
   ]
  },
  {
   "cell_type": "markdown",
   "id": "a9c2565f",
   "metadata": {},
   "source": [
    "6. Remove an element from a list by its index.\n"
   ]
  },
  {
   "cell_type": "code",
   "execution_count": 58,
   "id": "6aabcb0b",
   "metadata": {},
   "outputs": [
    {
     "data": {
      "text/plain": [
       "[1, 2, 3, 4, 6, 7, 8, 9, 10]"
      ]
     },
     "execution_count": 58,
     "metadata": {},
     "output_type": "execute_result"
    }
   ],
   "source": [
    "l = [1,2,3,4,5,6,7,8,9,10]\n",
    "l.pop(4)\n",
    "l"
   ]
  },
  {
   "cell_type": "markdown",
   "id": "5eb66766",
   "metadata": {},
   "source": [
    "7. Check if an element exists in a list.\n"
   ]
  },
  {
   "cell_type": "code",
   "execution_count": 73,
   "id": "5277665b",
   "metadata": {},
   "outputs": [
    {
     "name": "stdout",
     "output_type": "stream",
     "text": [
      "Enter Number: 11\n",
      "False\n"
     ]
    }
   ],
   "source": [
    "l = [1,2,3,4,5,6,7,8,9,10]\n",
    "a = int(input(\"Enter Number: \"))\n",
    "if a in l:\n",
    "    print(True)\n",
    "else:\n",
    "    print(False)"
   ]
  },
  {
   "cell_type": "markdown",
   "id": "fdd9dc4f",
   "metadata": {},
   "source": [
    "8. Find the index of the first occurrence of an element in a list.\n"
   ]
  },
  {
   "cell_type": "code",
   "execution_count": 2,
   "id": "06c816d5",
   "metadata": {},
   "outputs": [
    {
     "data": {
      "text/plain": [
       "2"
      ]
     },
     "execution_count": 2,
     "metadata": {},
     "output_type": "execute_result"
    }
   ],
   "source": [
    "a = [1,2,3,4,2,3]\n",
    "a.index(3)"
   ]
  },
  {
   "cell_type": "markdown",
   "id": "9a991363",
   "metadata": {},
   "source": [
    "9. Count the occurrences of an element in a list.\n"
   ]
  },
  {
   "cell_type": "code",
   "execution_count": 11,
   "id": "1aba41d7",
   "metadata": {},
   "outputs": [
    {
     "name": "stdout",
     "output_type": "stream",
     "text": [
      "3\n"
     ]
    }
   ],
   "source": [
    "a = [1,2,3,4,2,3,3,3,2]\n",
    "b = 2\n",
    "c = 0\n",
    "for i in a :\n",
    "    if i == b:\n",
    "        c+=1\n",
    "print(c)\n",
    "\n",
    "\n",
    "        "
   ]
  },
  {
   "cell_type": "markdown",
   "id": "3d928deb",
   "metadata": {},
   "source": [
    "10. Reverse the order of elements in a list."
   ]
  },
  {
   "cell_type": "code",
   "execution_count": 16,
   "id": "f6dad00e",
   "metadata": {},
   "outputs": [
    {
     "name": "stdout",
     "output_type": "stream",
     "text": [
      "[5, 4, 3, 2, 1]\n"
     ]
    },
    {
     "data": {
      "text/plain": [
       "[6, 5, 1, 2, 4, 3]"
      ]
     },
     "execution_count": 16,
     "metadata": {},
     "output_type": "execute_result"
    }
   ],
   "source": [
    "a = [1,2,3,4,5]\n",
    "print(a[::-1])\n",
    "\n",
    "# OR \n",
    "\n",
    "a = [3,4,2,1,5,6]\n",
    "a.reverse()\n",
    "a"
   ]
  },
  {
   "cell_type": "code",
   "execution_count": null,
   "id": "e7fd1b9a",
   "metadata": {},
   "outputs": [],
   "source": []
  },
  {
   "cell_type": "markdown",
   "id": "0c3ecc1d",
   "metadata": {},
   "source": [
    "11. Sort a list in ascending order.\n"
   ]
  },
  {
   "cell_type": "code",
   "execution_count": 14,
   "id": "31a040f6",
   "metadata": {},
   "outputs": [
    {
     "data": {
      "text/plain": [
       "[1, 2, 3, 4, 5, 6]"
      ]
     },
     "execution_count": 14,
     "metadata": {},
     "output_type": "execute_result"
    }
   ],
   "source": [
    "a = [3,4,2,1,5,6]\n",
    "a.sort()\n",
    "a"
   ]
  },
  {
   "cell_type": "markdown",
   "id": "f2983a66",
   "metadata": {},
   "source": [
    "12. Sort a list in descending order.\n"
   ]
  },
  {
   "cell_type": "code",
   "execution_count": 18,
   "id": "715b027d",
   "metadata": {},
   "outputs": [
    {
     "data": {
      "text/plain": [
       "[6, 5, 4, 3, 2, 1]"
      ]
     },
     "execution_count": 18,
     "metadata": {},
     "output_type": "execute_result"
    }
   ],
   "source": [
    "a = [3,4,2,1,5,6]\n",
    "a.sort(reverse = True)\n",
    "a"
   ]
  },
  {
   "cell_type": "markdown",
   "id": "5b7fbd5e",
   "metadata": {},
   "source": [
    "13. Create a list of even numbers from 1 to 20.\n"
   ]
  },
  {
   "cell_type": "code",
   "execution_count": 19,
   "id": "b89f92a2",
   "metadata": {},
   "outputs": [
    {
     "name": "stdout",
     "output_type": "stream",
     "text": [
      "[2, 4, 6, 8, 10, 12, 14, 16, 18, 20]\n"
     ]
    }
   ],
   "source": [
    "a = []\n",
    "for i in range(1 , 21):\n",
    "    if i % 2 == 0:\n",
    "        a.append(i)\n",
    "print(a)"
   ]
  },
  {
   "cell_type": "markdown",
   "id": "da18b981",
   "metadata": {},
   "source": [
    "14. Create a list of odd numbers from 1 to 20.\n"
   ]
  },
  {
   "cell_type": "code",
   "execution_count": 20,
   "id": "1388a443",
   "metadata": {},
   "outputs": [
    {
     "name": "stdout",
     "output_type": "stream",
     "text": [
      "[1, 3, 5, 7, 9, 11, 13, 15, 17, 19]\n"
     ]
    }
   ],
   "source": [
    "a = []\n",
    "for i in range(1 , 21):\n",
    "    if i % 2 != 0:\n",
    "        a.append(i)\n",
    "print(a)"
   ]
  },
  {
   "cell_type": "markdown",
   "id": "4bbb5a06",
   "metadata": {},
   "source": [
    "15. Find the sum of all elements in a list.\n"
   ]
  },
  {
   "cell_type": "code",
   "execution_count": 23,
   "id": "d54b0c00",
   "metadata": {},
   "outputs": [
    {
     "name": "stdout",
     "output_type": "stream",
     "text": [
      "15\n"
     ]
    }
   ],
   "source": [
    "a = [1,2,3,4,5]\n",
    "b = 0\n",
    "for i in a:\n",
    "    b = b + i\n",
    "    \n",
    "print(b)\n",
    "    \n"
   ]
  },
  {
   "cell_type": "markdown",
   "id": "3849388a",
   "metadata": {},
   "source": [
    "16. Find the maximum value in a list.\n"
   ]
  },
  {
   "cell_type": "code",
   "execution_count": 28,
   "id": "a74ec4ef",
   "metadata": {},
   "outputs": [
    {
     "data": {
      "text/plain": [
       "5"
      ]
     },
     "execution_count": 28,
     "metadata": {},
     "output_type": "execute_result"
    }
   ],
   "source": [
    "a = [1,2,3,4,5]\n",
    "max(a)\n",
    "    \n",
    "\n",
    "    "
   ]
  },
  {
   "cell_type": "markdown",
   "id": "26b35406",
   "metadata": {},
   "source": [
    "17. Find the minimum value in a list.\n"
   ]
  },
  {
   "cell_type": "code",
   "execution_count": 29,
   "id": "aae84a36",
   "metadata": {},
   "outputs": [
    {
     "data": {
      "text/plain": [
       "1"
      ]
     },
     "execution_count": 29,
     "metadata": {},
     "output_type": "execute_result"
    }
   ],
   "source": [
    "a = [1,2,3,4,5]\n",
    "\n",
    "\n",
    "min(a)\n"
   ]
  },
  {
   "cell_type": "markdown",
   "id": "240232b7",
   "metadata": {},
   "source": [
    "18. Create a list of squares of numbers from 1 to 10.\n"
   ]
  },
  {
   "cell_type": "code",
   "execution_count": 30,
   "id": "daa52744",
   "metadata": {},
   "outputs": [
    {
     "name": "stdout",
     "output_type": "stream",
     "text": [
      "1\n",
      "4\n",
      "9\n",
      "16\n",
      "25\n",
      "36\n",
      "49\n",
      "64\n",
      "81\n",
      "100\n"
     ]
    }
   ],
   "source": [
    "for i in range (1 ,11):\n",
    "    print (i**2)"
   ]
  },
  {
   "cell_type": "markdown",
   "id": "7876b314",
   "metadata": {},
   "source": [
    "19. Create a list of random numbers.\n"
   ]
  },
  {
   "cell_type": "code",
   "execution_count": 37,
   "id": "cff167a1",
   "metadata": {},
   "outputs": [
    {
     "data": {
      "text/plain": [
       "[57, 64, 70, 85, 26, 49, 36, 21, 73, 2]"
      ]
     },
     "execution_count": 37,
     "metadata": {},
     "output_type": "execute_result"
    }
   ],
   "source": [
    "import random\n",
    "n  = 10\n",
    "random_numbers = [random.randint(1, 100) for _ in range(n)]\n",
    "random_numbers"
   ]
  },
  {
   "cell_type": "code",
   "execution_count": 40,
   "id": "0e9392c1",
   "metadata": {},
   "outputs": [
    {
     "name": "stdout",
     "output_type": "stream",
     "text": [
      "[44, 70, 4, 83, 87, 31, 34, 83, 62, 9]\n"
     ]
    }
   ],
   "source": [
    "a = 10\n",
    "print([random.randint(1,100) for i in range(a)])\n"
   ]
  },
  {
   "cell_type": "markdown",
   "id": "cfafe263",
   "metadata": {},
   "source": [
    "20. Remove duplicates from a list.\n"
   ]
  },
  {
   "cell_type": "code",
   "execution_count": 32,
   "id": "6fb50344",
   "metadata": {},
   "outputs": [
    {
     "name": "stdout",
     "output_type": "stream",
     "text": [
      "[1, 2, 3, 4, 5]\n"
     ]
    }
   ],
   "source": [
    "a = [1,1,2,2,3,3,4,4,5,5]\n",
    "b=[]\n",
    "for i in a :\n",
    "    if i not in b:\n",
    "        b.append(i)\n",
    "print(b)\n",
    "        "
   ]
  },
  {
   "cell_type": "markdown",
   "id": "f8efb305",
   "metadata": {},
   "source": [
    "21. Find the common elements between two lists.\n"
   ]
  },
  {
   "cell_type": "code",
   "execution_count": 44,
   "id": "f2ce4d84",
   "metadata": {},
   "outputs": [
    {
     "name": "stdout",
     "output_type": "stream",
     "text": [
      "[3, 4, 5]\n"
     ]
    }
   ],
   "source": [
    "a = [1,2,3,4,5]\n",
    "b = [3,4,5,6,7]\n",
    "c= []\n",
    "for i in a:\n",
    "    for e in b:\n",
    "        if i ==e:\n",
    "            c.append(i)\n",
    "print(c)"
   ]
  },
  {
   "cell_type": "markdown",
   "id": "0be87b24",
   "metadata": {},
   "source": [
    "22. Find the difference between two lists.\n"
   ]
  },
  {
   "cell_type": "code",
   "execution_count": 45,
   "id": "5f1ec7ff",
   "metadata": {},
   "outputs": [],
   "source": [
    "a = [5,2,3,4,9]\n",
    "b = [3,4,5,6,7]\n",
    "for i in a:\n",
    "    \n",
    "\n"
   ]
  },
  {
   "cell_type": "markdown",
   "id": "737b9dbe",
   "metadata": {},
   "source": [
    "23. Merge two lists.\n"
   ]
  },
  {
   "cell_type": "code",
   "execution_count": 46,
   "id": "95d0edab",
   "metadata": {},
   "outputs": [
    {
     "data": {
      "text/plain": [
       "[3, 4, 5, 6, 7, 1, 2, 3, 4, 5]"
      ]
     },
     "execution_count": 46,
     "metadata": {},
     "output_type": "execute_result"
    }
   ],
   "source": [
    "a = [1,2,3,4,5]\n",
    "b = [3,4,5,6,7]\n",
    "for i in a:\n",
    "    b.append(i)\n",
    "b"
   ]
  },
  {
   "cell_type": "markdown",
   "id": "17c0d45d",
   "metadata": {},
   "source": [
    "24. Multiply all elements in a list by 2.\n"
   ]
  },
  {
   "cell_type": "code",
   "execution_count": 51,
   "id": "6f529451",
   "metadata": {},
   "outputs": [
    {
     "name": "stdout",
     "output_type": "stream",
     "text": [
      "2  4  6  8  10  "
     ]
    }
   ],
   "source": [
    "a = [1,2,3,4,5]\n",
    "for i in a:\n",
    "    print(i * 2, end=\"  \")"
   ]
  },
  {
   "cell_type": "markdown",
   "id": "9a670d0a",
   "metadata": {},
   "source": [
    "25. Filter out all even numbers from a list."
   ]
  },
  {
   "cell_type": "code",
   "execution_count": 53,
   "id": "84b6f960",
   "metadata": {},
   "outputs": [
    {
     "name": "stdout",
     "output_type": "stream",
     "text": [
      "2\n",
      "4\n",
      "6\n"
     ]
    }
   ],
   "source": [
    "a = [1,2,3,4,5,6]\n",
    "for i in a :\n",
    "    if i%2==0:\n",
    "        print(i)\n",
    "    "
   ]
  },
  {
   "cell_type": "markdown",
   "id": "81d8e516",
   "metadata": {},
   "source": [
    "26. Convert a list of strings to a list of integers.\n"
   ]
  },
  {
   "cell_type": "code",
   "execution_count": 19,
   "id": "83f12d9a",
   "metadata": {},
   "outputs": [
    {
     "name": "stdout",
     "output_type": "stream",
     "text": [
      "[1, 2, 3, 4, 5]\n"
     ]
    },
    {
     "data": {
      "text/plain": [
       "int"
      ]
     },
     "execution_count": 19,
     "metadata": {},
     "output_type": "execute_result"
    }
   ],
   "source": [
    "a = ['1','2','3','4','5']\n",
    "b = [int(i) for i in a ]\n",
    "print(b)\n",
    "type(b[0])\n",
    "\n"
   ]
  },
  {
   "cell_type": "markdown",
   "id": "4edf1b85",
   "metadata": {},
   "source": [
    "27. Convert a list of integers to a list of strings.\n"
   ]
  },
  {
   "cell_type": "code",
   "execution_count": 18,
   "id": "0bd3ce11",
   "metadata": {},
   "outputs": [
    {
     "name": "stdout",
     "output_type": "stream",
     "text": [
      "['1', '2', '3', '4', '5']\n"
     ]
    },
    {
     "data": {
      "text/plain": [
       "str"
      ]
     },
     "execution_count": 18,
     "metadata": {},
     "output_type": "execute_result"
    }
   ],
   "source": [
    "a = [1,2,3,4,5]\n",
    "b=[ str (i) for i in a ]\n",
    "print(b)\n",
    "type(b[0])"
   ]
  },
  {
   "cell_type": "markdown",
   "id": "ee1eda35",
   "metadata": {},
   "source": [
    "28. Flatten a nested list.\n"
   ]
  },
  {
   "cell_type": "code",
   "execution_count": 20,
   "id": "2897dfc8",
   "metadata": {},
   "outputs": [
    {
     "data": {
      "text/plain": [
       "[1, 2, 3, 4, 5, 6, 7, 8, 9]"
      ]
     },
     "execution_count": 20,
     "metadata": {},
     "output_type": "execute_result"
    }
   ],
   "source": [
    "a = [[1,2,3] , [4,5,6] , [7,8,9]]\n",
    "flatten = [ e for i in a for e in i ]\n",
    "flatten"
   ]
  },
  {
   "cell_type": "markdown",
   "id": "6e928efa",
   "metadata": {},
   "source": [
    "29. Create a list of the first 10 Fibonacci numbers.\n"
   ]
  },
  {
   "cell_type": "code",
   "execution_count": 27,
   "id": "d18a7d6a",
   "metadata": {},
   "outputs": [
    {
     "data": {
      "text/plain": [
       "[0, 1, 1, 2, 3, 5, 8, 13, 21, 34]"
      ]
     },
     "execution_count": 27,
     "metadata": {},
     "output_type": "execute_result"
    }
   ],
   "source": [
    "a = 0\n",
    "b = 1 \n",
    "c = [0,1]\n",
    "for i in range(8):\n",
    "    a , b = b , b +a \n",
    "    c.append(b)\n",
    "    \n",
    "c\n",
    "\n",
    "    "
   ]
  },
  {
   "cell_type": "markdown",
   "id": "c42e7dd2",
   "metadata": {},
   "source": [
    "30. Check if a list is sorted.\n"
   ]
  },
  {
   "cell_type": "code",
   "execution_count": 29,
   "id": "3092d2c1",
   "metadata": {},
   "outputs": [
    {
     "name": "stdout",
     "output_type": "stream",
     "text": [
      "False\n"
     ]
    }
   ],
   "source": [
    "a = [1,7,3,4,6,5]\n",
    "\n",
    "if a == sorted(a):\n",
    "    print (True)\n",
    "else:\n",
    "    print(False)\n"
   ]
  },
  {
   "cell_type": "markdown",
   "id": "40885844",
   "metadata": {},
   "source": [
    "31. Rotate a list to the left by `n` positions.\n"
   ]
  },
  {
   "cell_type": "code",
   "execution_count": 37,
   "id": "2e2516a2",
   "metadata": {},
   "outputs": [
    {
     "name": "stdout",
     "output_type": "stream",
     "text": [
      "[4, 5, 1, 2, 3]\n"
     ]
    }
   ],
   "source": [
    "a = [1,2,3,4,5]\n",
    "b = 3\n",
    "print(a[b:] + a[: b])\n",
    "\n",
    "\n"
   ]
  },
  {
   "cell_type": "markdown",
   "id": "4c21505a",
   "metadata": {},
   "source": [
    "32. Rotate a list to the right by `n` positions.\n"
   ]
  },
  {
   "cell_type": "code",
   "execution_count": 46,
   "id": "67a5ff52",
   "metadata": {},
   "outputs": [
    {
     "name": "stdout",
     "output_type": "stream",
     "text": [
      "[3, 4, 5, 1, 2]\n"
     ]
    }
   ],
   "source": [
    "a = [1,2,3,4,5]\n",
    "b = 3\n",
    "print(a[-b : ] + a[:-b] )\n",
    "\n"
   ]
  },
  {
   "cell_type": "markdown",
   "id": "2027a0cd",
   "metadata": {},
   "source": [
    "33. Create a list of prime numbers up to 50.\n",
    "\n"
   ]
  },
  {
   "cell_type": "code",
   "execution_count": null,
   "id": "f0c8a92f",
   "metadata": {},
   "outputs": [],
   "source": [
    "for i in range(51):\n",
    "    \n"
   ]
  },
  {
   "cell_type": "markdown",
   "id": "ee79929d",
   "metadata": {},
   "source": [
    "34. Split a list into chunks of size `n`.\n"
   ]
  },
  {
   "cell_type": "code",
   "execution_count": null,
   "id": "c155097e",
   "metadata": {},
   "outputs": [],
   "source": [
    "a = [1,2,3,4,5,6,7,8]\n",
    "for i in range(a):\n",
    "    \n",
    "    \n",
    "    \n",
    "\n"
   ]
  },
  {
   "cell_type": "markdown",
   "id": "59c97219",
   "metadata": {},
   "source": [
    "35. Find the second largest number in a list.\n"
   ]
  },
  {
   "cell_type": "code",
   "execution_count": 17,
   "id": "40d8daf2",
   "metadata": {},
   "outputs": [
    {
     "data": {
      "text/plain": [
       "5"
      ]
     },
     "execution_count": 17,
     "metadata": {},
     "output_type": "execute_result"
    }
   ],
   "source": [
    "a = [1,2,3,4,6,5]\n",
    "a.sort()\n",
    "a[-2]"
   ]
  },
  {
   "cell_type": "markdown",
   "id": "f6fbc7f3",
   "metadata": {},
   "source": [
    "36. Replace every element in a list with its square.\n"
   ]
  },
  {
   "cell_type": "code",
   "execution_count": 21,
   "id": "e1ded7a8",
   "metadata": {},
   "outputs": [
    {
     "data": {
      "text/plain": [
       "[4, 9, 16, 25, 36]"
      ]
     },
     "execution_count": 21,
     "metadata": {},
     "output_type": "execute_result"
    }
   ],
   "source": [
    "a = [2,3,4,5,6]\n",
    "s = [i**2 for i in a ]\n",
    "s"
   ]
  },
  {
   "cell_type": "markdown",
   "id": "e27fb06b",
   "metadata": {},
   "source": [
    "Convert a list to a dictionary where list elements become keys and their\n",
    "indices become values."
   ]
  },
  {
   "cell_type": "code",
   "execution_count": 24,
   "id": "41e4b4cb",
   "metadata": {},
   "outputs": [
    {
     "data": {
      "text/plain": [
       "{1: 0, 2: 1, 3: 2, 4: 3, 5: 4}"
      ]
     },
     "execution_count": 24,
     "metadata": {},
     "output_type": "execute_result"
    }
   ],
   "source": [
    "a = [1,2,3,4,5]\n",
    "d = {e: index for index, e in enumerate(a)}\n",
    "d"
   ]
  },
  {
   "cell_type": "markdown",
   "id": "6ab0cb08",
   "metadata": {},
   "source": [
    "38. Shuffle the elements of a list randomly.\n"
   ]
  },
  {
   "cell_type": "code",
   "execution_count": 26,
   "id": "7a8ee5b9",
   "metadata": {},
   "outputs": [
    {
     "data": {
      "text/plain": [
       "[4, 1, 3, 5, 2]"
      ]
     },
     "execution_count": 26,
     "metadata": {},
     "output_type": "execute_result"
    }
   ],
   "source": [
    "a = [1,2,3,4,5]\n",
    "import random\n",
    "random.shuffle(a)\n",
    "a"
   ]
  },
  {
   "cell_type": "markdown",
   "id": "a9324f8c",
   "metadata": {},
   "source": [
    "39. Create a list of the first 10 factorial numbers."
   ]
  },
  {
   "cell_type": "code",
   "execution_count": 27,
   "id": "c2e34dd3",
   "metadata": {},
   "outputs": [
    {
     "name": "stdout",
     "output_type": "stream",
     "text": [
      "[1, 1, 2, 6, 24, 120, 720, 5040, 40320, 362880]\n"
     ]
    }
   ],
   "source": [
    "def factorial(n):\n",
    "    if n == 0:\n",
    "        return 1\n",
    "    else:\n",
    "        return n * factorial(n-1)\n",
    "\n",
    "factorials = [factorial(i) for i in range(10)]\n",
    "\n",
    "print(factorials)\n"
   ]
  },
  {
   "cell_type": "markdown",
   "id": "1759da98",
   "metadata": {},
   "source": [
    "40. Check if two lists have at least one element in common.\n"
   ]
  },
  {
   "cell_type": "code",
   "execution_count": 37,
   "id": "629cb090",
   "metadata": {},
   "outputs": [
    {
     "name": "stdout",
     "output_type": "stream",
     "text": [
      "5 is common in both the lists\n"
     ]
    }
   ],
   "source": [
    "a = [1,2,3,4,5]\n",
    "\n",
    "b = [5,6,7,8]\n",
    "\n",
    "for i in a:\n",
    "    for e in b:\n",
    "        if i == e:\n",
    "            c = i\n",
    "print(f\"{c} is common in both the lists\")\n",
    "        \n",
    "    "
   ]
  },
  {
   "cell_type": "markdown",
   "id": "860435e0",
   "metadata": {},
   "source": [
    "41. Remove all elements from a list.\n"
   ]
  },
  {
   "cell_type": "code",
   "execution_count": 40,
   "id": "3fe1fcdb",
   "metadata": {},
   "outputs": [
    {
     "data": {
      "text/plain": [
       "[]"
      ]
     },
     "execution_count": 40,
     "metadata": {},
     "output_type": "execute_result"
    }
   ],
   "source": [
    "a = [1,2,3,4,5]\n",
    "a.clear()\n",
    "a"
   ]
  },
  {
   "cell_type": "markdown",
   "id": "b1988e41",
   "metadata": {},
   "source": [
    "42. Replace negative numbers in a list with 0.\n"
   ]
  },
  {
   "cell_type": "code",
   "execution_count": 63,
   "id": "4803e118",
   "metadata": {},
   "outputs": [
    {
     "data": {
      "text/plain": [
       "7"
      ]
     },
     "execution_count": 63,
     "metadata": {},
     "output_type": "execute_result"
    }
   ],
   "source": [
    "a = [-1,-2,1,2,3,4,-5]\n",
    "num = [i if i > 0 else 0 for i in a]\n",
    "num\n"
   ]
  },
  {
   "cell_type": "markdown",
   "id": "2d07206a",
   "metadata": {},
   "source": [
    "43. Convert a string into a list of words.\n"
   ]
  },
  {
   "cell_type": "code",
   "execution_count": 51,
   "id": "7995f7f5",
   "metadata": {},
   "outputs": [
    {
     "name": "stdout",
     "output_type": "stream",
     "text": [
      "['This', 'is', 'a', 'string']\n"
     ]
    }
   ],
   "source": [
    "a = \"This is a string\"\n",
    "b = a.split()\n",
    "print(b)"
   ]
  },
  {
   "cell_type": "markdown",
   "id": "edc9bff7",
   "metadata": {},
   "source": [
    "44. Convert a list of words into a string.\n"
   ]
  },
  {
   "cell_type": "code",
   "execution_count": 52,
   "id": "cdf064cb",
   "metadata": {},
   "outputs": [
    {
     "data": {
      "text/plain": [
       "'This is a list'"
      ]
     },
     "execution_count": 52,
     "metadata": {},
     "output_type": "execute_result"
    }
   ],
   "source": [
    "a = [\"This\" , 'is','a','list']\n",
    "b = \" \".join(a)\n",
    "b"
   ]
  },
  {
   "cell_type": "markdown",
   "id": "66f0de89",
   "metadata": {},
   "source": [
    "45. Create a list of the first `n` powers of 2.\n"
   ]
  },
  {
   "cell_type": "code",
   "execution_count": 15,
   "id": "5cccf438",
   "metadata": {},
   "outputs": [
    {
     "data": {
      "text/plain": [
       "64"
      ]
     },
     "execution_count": 15,
     "metadata": {},
     "output_type": "execute_result"
    }
   ],
   "source": [
    "a = 7\n",
    "for i in range(a):\n",
    "    b = 2 ** i\n",
    "b"
   ]
  },
  {
   "cell_type": "markdown",
   "id": "ddf58cd5",
   "metadata": {},
   "source": [
    "46. Find the longest string in a list of strings.\n"
   ]
  },
  {
   "cell_type": "code",
   "execution_count": 26,
   "id": "8187aada",
   "metadata": {},
   "outputs": [
    {
     "name": "stdout",
     "output_type": "stream",
     "text": [
      "Longest\n"
     ]
    }
   ],
   "source": [
    "a = [\"Longest\", 'String', 'in', 'the' ,'string']\n",
    "longest_word = \"\"\n",
    "for i in a:\n",
    "    if len(i) > len(longest_word):\n",
    "        \n",
    "        longest_word = i\n",
    "    \n",
    "print(longest_word)\n",
    "\n",
    "    \n",
    "    \n",
    "    \n",
    "    "
   ]
  },
  {
   "cell_type": "markdown",
   "id": "6074976b",
   "metadata": {},
   "source": [
    "47. Find the shortest string in a list of strings.\n"
   ]
  },
  {
   "cell_type": "code",
   "execution_count": 62,
   "id": "9add0b41",
   "metadata": {},
   "outputs": [
    {
     "data": {
      "text/plain": [
       "['Shortest', 'String', 'in', 'the', 'string']"
      ]
     },
     "execution_count": 62,
     "metadata": {},
     "output_type": "execute_result"
    }
   ],
   "source": [
    "a = [\"Shortest\", 'String', 'in', 'the' ,'string']\n",
    "\n",
    "b = min(a , key = len)\n",
    "\n",
    "    \n"
   ]
  },
  {
   "cell_type": "markdown",
   "id": "a9208c7f",
   "metadata": {},
   "source": [
    "48. Create a list of the first `n` triangular numbers.\n"
   ]
  },
  {
   "cell_type": "code",
   "execution_count": 30,
   "id": "f5ab7663",
   "metadata": {},
   "outputs": [
    {
     "data": {
      "text/plain": [
       "[1, 3, 6, 10, 15]"
      ]
     },
     "execution_count": 30,
     "metadata": {},
     "output_type": "execute_result"
    }
   ],
   "source": [
    "a = 5\n",
    "b = [i * (i + 1) // 2 for i in range(1, a + 1)]\n",
    "b"
   ]
  },
  {
   "cell_type": "markdown",
   "id": "17b5c3d5",
   "metadata": {},
   "source": [
    "49. Check if a list contains another list as a subsequence.\n"
   ]
  },
  {
   "cell_type": "code",
   "execution_count": 34,
   "id": "855cd363",
   "metadata": {},
   "outputs": [
    {
     "name": "stdout",
     "output_type": "stream",
     "text": [
      "False\n"
     ]
    }
   ],
   "source": [
    "def contains_subsequence(main_list, sub_list):\n",
    "    if not sub_list:  \n",
    "        return True\n",
    "    \n",
    "    if not main_list:  \n",
    "        return False\n",
    "\n",
    "    m, n = len(main_list), len(sub_list)\n",
    "    i, j = 0, 0\n",
    "\n",
    "    while i < m and j < n:\n",
    "        if main_list[i] == sub_list[j]:\n",
    "            j += 1\n",
    "        i += 1\n",
    "\n",
    "    return j == n\n",
    "\n",
    "main_list = [1, 2, 3, 4, 5, 6]\n",
    "sub_list1 = [2, 3, 4,7]\n",
    "\n",
    "\n",
    "print(contains_subsequence(main_list, sub_list1))  \n",
    "\n"
   ]
  },
  {
   "cell_type": "markdown",
   "id": "812d91aa",
   "metadata": {},
   "source": [
    "50. Swap two elements in a list by their indices.\n"
   ]
  },
  {
   "cell_type": "code",
   "execution_count": 67,
   "id": "fe32fd14",
   "metadata": {},
   "outputs": [
    {
     "name": "stdout",
     "output_type": "stream",
     "text": [
      "1 and 2 is swapped [2, 1, 3]\n"
     ]
    }
   ],
   "source": [
    "a = [1,2,3]\n",
    "b = 1\n",
    "c = 0\n",
    "d = a[b]\n",
    "\n",
    "a[b] = a[c]\n",
    "\n",
    "a[c] = d\n",
    "\n",
    "print(\"1 and 2 is swapped\", a)\n"
   ]
  },
  {
   "cell_type": "markdown",
   "id": "de3c69fd",
   "metadata": {},
   "source": [
    "# Tuple Based Practice Problem :"
   ]
  },
  {
   "cell_type": "markdown",
   "id": "44d25925",
   "metadata": {},
   "source": [
    "1. Create a tuple with integers from 1 to 5.\n"
   ]
  },
  {
   "cell_type": "code",
   "execution_count": 36,
   "id": "4db2a0c4",
   "metadata": {},
   "outputs": [
    {
     "data": {
      "text/plain": [
       "tuple"
      ]
     },
     "execution_count": 36,
     "metadata": {},
     "output_type": "execute_result"
    }
   ],
   "source": [
    "tup = (1,2,3,4,5)\n",
    "type(tup)"
   ]
  },
  {
   "cell_type": "markdown",
   "id": "93d21bcb",
   "metadata": {},
   "source": [
    "2. Access the third element of a tuple.\n"
   ]
  },
  {
   "cell_type": "code",
   "execution_count": 39,
   "id": "612eff74",
   "metadata": {},
   "outputs": [
    {
     "data": {
      "text/plain": [
       "3"
      ]
     },
     "execution_count": 39,
     "metadata": {},
     "output_type": "execute_result"
    }
   ],
   "source": [
    "tup[2]"
   ]
  },
  {
   "cell_type": "markdown",
   "id": "c2c6b4a3",
   "metadata": {},
   "source": [
    "3. Find the length of a tuple without using the `len()` function.\n"
   ]
  },
  {
   "cell_type": "code",
   "execution_count": 42,
   "id": "30d60b1d",
   "metadata": {},
   "outputs": [
    {
     "name": "stdout",
     "output_type": "stream",
     "text": [
      "Lenght :5\n"
     ]
    }
   ],
   "source": [
    "c = 0\n",
    "for i in tup:\n",
    "    c+=1\n",
    "print(f\"Lenght :{c}\")"
   ]
  },
  {
   "cell_type": "markdown",
   "id": "9d90c9de",
   "metadata": {},
   "source": [
    "4. Count the occurrences of an element in a tuple.\n"
   ]
  },
  {
   "cell_type": "code",
   "execution_count": 47,
   "id": "dd678126",
   "metadata": {},
   "outputs": [
    {
     "data": {
      "text/plain": [
       "4"
      ]
     },
     "execution_count": 47,
     "metadata": {},
     "output_type": "execute_result"
    }
   ],
   "source": [
    "a = (1,2,3,3,3,4,3,4,5,6)\n",
    "b= 3\n",
    "count = 0\n",
    "for i in a:\n",
    "    if i==b:\n",
    "        count+=1\n",
    "count"
   ]
  },
  {
   "cell_type": "markdown",
   "id": "0c5e9fdb",
   "metadata": {},
   "source": [
    "5. Find the index of the first occurrence of an element in a tuple.\n"
   ]
  },
  {
   "cell_type": "code",
   "execution_count": 49,
   "id": "c703e777",
   "metadata": {},
   "outputs": [
    {
     "data": {
      "text/plain": [
       "1"
      ]
     },
     "execution_count": 49,
     "metadata": {},
     "output_type": "execute_result"
    }
   ],
   "source": [
    "a = ('a','b','v','b','d')\n",
    "a.index('b')"
   ]
  },
  {
   "cell_type": "markdown",
   "id": "2a35d533",
   "metadata": {},
   "source": [
    "6. Check if an element exists in a tuple.\n"
   ]
  },
  {
   "cell_type": "code",
   "execution_count": 57,
   "id": "3d4121da",
   "metadata": {},
   "outputs": [
    {
     "name": "stdout",
     "output_type": "stream",
     "text": [
      "False\n"
     ]
    }
   ],
   "source": [
    "t = (1,2,3,4,4,5)\n",
    "a = 6\n",
    "\n",
    "if a in t:\n",
    "    print(True)\n",
    "else:\n",
    "    print(False)\n",
    "    "
   ]
  },
  {
   "cell_type": "markdown",
   "id": "bc471261",
   "metadata": {},
   "source": [
    "7. Convert a tuple to a list."
   ]
  },
  {
   "cell_type": "code",
   "execution_count": 58,
   "id": "e750c803",
   "metadata": {},
   "outputs": [
    {
     "data": {
      "text/plain": [
       "[1, 2, 3]"
      ]
     },
     "execution_count": 58,
     "metadata": {},
     "output_type": "execute_result"
    }
   ],
   "source": [
    "t = (1,2,3)\n",
    "list(t)"
   ]
  },
  {
   "cell_type": "markdown",
   "id": "3d8e9650",
   "metadata": {},
   "source": [
    "8. Convert a list to a tuple."
   ]
  },
  {
   "cell_type": "code",
   "execution_count": 59,
   "id": "e5373c49",
   "metadata": {},
   "outputs": [
    {
     "data": {
      "text/plain": [
       "(1, 2, 3)"
      ]
     },
     "execution_count": 59,
     "metadata": {},
     "output_type": "execute_result"
    }
   ],
   "source": [
    "lst = [1,2,3]\n",
    "tuple(lst)"
   ]
  },
  {
   "cell_type": "markdown",
   "id": "c1021031",
   "metadata": {},
   "source": [
    "9. Unpack the elements of a tuple into variables.\n"
   ]
  },
  {
   "cell_type": "code",
   "execution_count": 60,
   "id": "88cc7f6f",
   "metadata": {},
   "outputs": [
    {
     "name": "stdout",
     "output_type": "stream",
     "text": [
      "1 2 3\n"
     ]
    }
   ],
   "source": [
    "t = (1,2,3)\n",
    "a,b,c = t\n",
    "\n",
    "print(a,b,c)\n"
   ]
  },
  {
   "cell_type": "markdown",
   "id": "27edb1e5",
   "metadata": {},
   "source": [
    "10. Create a tuple of even numbers from 1 to 10.\n"
   ]
  },
  {
   "cell_type": "code",
   "execution_count": 63,
   "id": "ea52bed8",
   "metadata": {},
   "outputs": [
    {
     "name": "stdout",
     "output_type": "stream",
     "text": [
      "(2, 4, 6, 8, 10)\n"
     ]
    }
   ],
   "source": [
    "l = []\n",
    "for i in range(2,11,2):\n",
    "    l.append(i)\n",
    "print(tuple(l))"
   ]
  },
  {
   "cell_type": "markdown",
   "id": "01939c40",
   "metadata": {},
   "source": [
    "11. Create a tuple of odd numbers from 1 to 10."
   ]
  },
  {
   "cell_type": "code",
   "execution_count": 65,
   "id": "0e68f088",
   "metadata": {},
   "outputs": [
    {
     "name": "stdout",
     "output_type": "stream",
     "text": [
      "(1, 3, 5, 7, 9)\n"
     ]
    }
   ],
   "source": [
    "l = []\n",
    "for i in range(1,11,2):\n",
    "    l.append(i)\n",
    "print(tuple(l))"
   ]
  },
  {
   "cell_type": "markdown",
   "id": "0ca98720",
   "metadata": {},
   "source": [
    "12. Concatenate two tuples."
   ]
  },
  {
   "cell_type": "code",
   "execution_count": 72,
   "id": "245f385a",
   "metadata": {},
   "outputs": [
    {
     "name": "stdout",
     "output_type": "stream",
     "text": [
      "(1, 2, 3, 4, 5, 6, 7, 8, 9, 10)\n"
     ]
    },
    {
     "data": {
      "text/plain": [
       "tuple"
      ]
     },
     "execution_count": 72,
     "metadata": {},
     "output_type": "execute_result"
    }
   ],
   "source": [
    "a = (1,2,3,4,5)\n",
    "b = (6,7,8,9,10)\n",
    "p = (a+b)\n",
    "print(p)\n",
    "type(p)"
   ]
  },
  {
   "cell_type": "markdown",
   "id": "d86f2bb3",
   "metadata": {},
   "source": [
    "13. Repeat a tuple three times."
   ]
  },
  {
   "cell_type": "code",
   "execution_count": 75,
   "id": "8323fcac",
   "metadata": {},
   "outputs": [
    {
     "name": "stdout",
     "output_type": "stream",
     "text": [
      "(1, 2, 3, 1, 2, 3, 1, 2, 3)\n"
     ]
    }
   ],
   "source": [
    "a = (1,2,3)\n",
    "print((a) * 3)"
   ]
  },
  {
   "cell_type": "markdown",
   "id": "0cb74476",
   "metadata": {},
   "source": [
    "14. Check if a tuple is empty.\n"
   ]
  },
  {
   "cell_type": "code",
   "execution_count": 86,
   "id": "96c6eb53",
   "metadata": {},
   "outputs": [
    {
     "name": "stdout",
     "output_type": "stream",
     "text": [
      "The tuple is empty.\n"
     ]
    }
   ],
   "source": [
    "t = ()\n",
    "if len(t) == 0:\n",
    "    print(\"The tuple is empty.\")\n",
    "else:\n",
    "    print(\"The tuple is not empty.\")\n"
   ]
  },
  {
   "cell_type": "markdown",
   "id": "5a827d94",
   "metadata": {},
   "source": [
    "15. Create a nested tuple.\n"
   ]
  },
  {
   "cell_type": "code",
   "execution_count": 90,
   "id": "083236c5",
   "metadata": {},
   "outputs": [
    {
     "data": {
      "text/plain": [
       "tuple"
      ]
     },
     "execution_count": 90,
     "metadata": {},
     "output_type": "execute_result"
    }
   ],
   "source": [
    "a = ((1,2,3),(4,5,6),(7,8,9))\n",
    "type(a)"
   ]
  },
  {
   "cell_type": "markdown",
   "id": "bf3d00ce",
   "metadata": {},
   "source": [
    "16. Access the first element of a nested tuple.\n"
   ]
  },
  {
   "cell_type": "code",
   "execution_count": 91,
   "id": "22694fa1",
   "metadata": {},
   "outputs": [
    {
     "data": {
      "text/plain": [
       "1"
      ]
     },
     "execution_count": 91,
     "metadata": {},
     "output_type": "execute_result"
    }
   ],
   "source": [
    "a=(1,2,3)\n",
    "a[0]"
   ]
  },
  {
   "cell_type": "markdown",
   "id": "39f73fa6",
   "metadata": {},
   "source": [
    "17. Create a tuple with a single element.\n"
   ]
  },
  {
   "cell_type": "code",
   "execution_count": 93,
   "id": "053c8c20",
   "metadata": {},
   "outputs": [
    {
     "data": {
      "text/plain": [
       "tuple"
      ]
     },
     "execution_count": 93,
     "metadata": {},
     "output_type": "execute_result"
    }
   ],
   "source": [
    "t = (1,)\n",
    "type(t)"
   ]
  },
  {
   "cell_type": "markdown",
   "id": "72baa7cb",
   "metadata": {},
   "source": [
    "18. Compare two tuples.\n"
   ]
  },
  {
   "cell_type": "code",
   "execution_count": 103,
   "id": "71c3f868",
   "metadata": {},
   "outputs": [
    {
     "name": "stdout",
     "output_type": "stream",
     "text": [
      "True\n"
     ]
    }
   ],
   "source": [
    "t1 = (1, 2, 3)\n",
    "t2 = (1, 2, 4)\n",
    "print(t1 < t2)   \n",
    "\n"
   ]
  },
  {
   "cell_type": "markdown",
   "id": "70c670c5",
   "metadata": {},
   "source": [
    "19. Delete a tuple.\n"
   ]
  },
  {
   "cell_type": "code",
   "execution_count": 95,
   "id": "bc58712b",
   "metadata": {},
   "outputs": [],
   "source": [
    "a = (1,2)\n",
    "del(a)"
   ]
  },
  {
   "cell_type": "markdown",
   "id": "2f628e88",
   "metadata": {},
   "source": [
    "20. Slice a tuple."
   ]
  },
  {
   "cell_type": "code",
   "execution_count": 102,
   "id": "ed49c31c",
   "metadata": {},
   "outputs": [
    {
     "name": "stdout",
     "output_type": "stream",
     "text": [
      "(1, 2, 3)\n",
      "(4, 5, 6)\n"
     ]
    }
   ],
   "source": [
    "a = (1,2,3,4,5,6)\n",
    "print(a[0:3])\n",
    "print(a[3:6])"
   ]
  },
  {
   "cell_type": "markdown",
   "id": "3a4028fc",
   "metadata": {},
   "source": [
    "21. Find the maximum value in a tuple.\n"
   ]
  },
  {
   "cell_type": "code",
   "execution_count": 109,
   "id": "e83fa1d9",
   "metadata": {},
   "outputs": [
    {
     "data": {
      "text/plain": [
       "13"
      ]
     },
     "execution_count": 109,
     "metadata": {},
     "output_type": "execute_result"
    }
   ],
   "source": [
    "a = (1,2,3,4,5,4,13,5,6,3,3)\n",
    "max(a)"
   ]
  },
  {
   "cell_type": "markdown",
   "id": "cbb286b3",
   "metadata": {},
   "source": [
    "22. Find the minimum value in a tuple.\n"
   ]
  },
  {
   "cell_type": "code",
   "execution_count": 110,
   "id": "dffadbed",
   "metadata": {},
   "outputs": [
    {
     "data": {
      "text/plain": [
       "1"
      ]
     },
     "execution_count": 110,
     "metadata": {},
     "output_type": "execute_result"
    }
   ],
   "source": [
    "a = (1,2,3,4,5,4,13,5,6,3,3)\n",
    "min(a)"
   ]
  },
  {
   "cell_type": "markdown",
   "id": "59a7559b",
   "metadata": {},
   "source": [
    "23. Convert a string to a tuple of characters.\n"
   ]
  },
  {
   "cell_type": "code",
   "execution_count": 123,
   "id": "8fff4b70",
   "metadata": {},
   "outputs": [
    {
     "data": {
      "text/plain": [
       "('S', 't', 'r', 'i', 'n', 'g')"
      ]
     },
     "execution_count": 123,
     "metadata": {},
     "output_type": "execute_result"
    }
   ],
   "source": [
    "s = \"String\"\n",
    "tuple(s)\n",
    "\n",
    "    "
   ]
  },
  {
   "cell_type": "markdown",
   "id": "19ab97f1",
   "metadata": {},
   "source": [
    "24. Convert a tuple of characters to a string.\n"
   ]
  },
  {
   "cell_type": "code",
   "execution_count": 125,
   "id": "7936b855",
   "metadata": {},
   "outputs": [
    {
     "data": {
      "text/plain": [
       "('s', 't', 'r', 'i', 'n', 'g')"
      ]
     },
     "execution_count": 125,
     "metadata": {},
     "output_type": "execute_result"
    }
   ],
   "source": [
    "t = ('s','t','r','i','n','g')\n",
    "tuple(t)"
   ]
  },
  {
   "cell_type": "markdown",
   "id": "5439aa77",
   "metadata": {},
   "source": [
    "25. Create a tuple from multiple data types.\n"
   ]
  },
  {
   "cell_type": "code",
   "execution_count": 132,
   "id": "20a3bb32",
   "metadata": {},
   "outputs": [
    {
     "name": "stdout",
     "output_type": "stream",
     "text": [
      "(5, 3.14, 'Hello', [1, 2, 3], {'key': 'value'}, {4, 5, 6})\n"
     ]
    }
   ],
   "source": [
    "\n",
    "# Integer\n",
    "a = 5\n",
    "\n",
    "# Float\n",
    "b = 3.14\n",
    "\n",
    "# String\n",
    "c = \"Hello\"\n",
    "\n",
    "# List\n",
    "d = [1, 2, 3]\n",
    "\n",
    "# Dictionary\n",
    "e = {\"key\": \"value\"}\n",
    "\n",
    "# Set\n",
    "f = {4, 5, 6}\n",
    "\n",
    "mixed_tuple = (a, b, c, d, e, f)\n",
    "\n",
    "print(mixed_tuple)\n"
   ]
  },
  {
   "cell_type": "markdown",
   "id": "fd2a1a7c",
   "metadata": {},
   "source": [
    "26. Check if two tuples are identical.\n"
   ]
  },
  {
   "cell_type": "code",
   "execution_count": 131,
   "id": "6c728677",
   "metadata": {},
   "outputs": [
    {
     "name": "stdout",
     "output_type": "stream",
     "text": [
      "True\n"
     ]
    }
   ],
   "source": [
    "a = (1,2,3,4,5)\n",
    "b = (1,2,3,4,5)\n",
    "if a == b:\n",
    "    print (True)\n",
    "else:\n",
    "    print(False)"
   ]
  },
  {
   "cell_type": "markdown",
   "id": "f03fd34e",
   "metadata": {},
   "source": [
    "27. Sort the elements of a tuple.\n"
   ]
  },
  {
   "cell_type": "code",
   "execution_count": 128,
   "id": "27e884d5",
   "metadata": {},
   "outputs": [
    {
     "data": {
      "text/plain": [
       "[1, 3, 4, 5, 5, 6, 8, 9]"
      ]
     },
     "execution_count": 128,
     "metadata": {},
     "output_type": "execute_result"
    }
   ],
   "source": [
    "t = (8,4,5,3,6,5,1,9)\n",
    "sorted(t)"
   ]
  },
  {
   "cell_type": "markdown",
   "id": "5f779115",
   "metadata": {},
   "source": [
    "28. Convert a tuple of integers to a tuple of strings.\n"
   ]
  },
  {
   "cell_type": "code",
   "execution_count": 134,
   "id": "9f2d7299",
   "metadata": {},
   "outputs": [
    {
     "data": {
      "text/plain": [
       "('1', '2', '3', '4', '5')"
      ]
     },
     "execution_count": 134,
     "metadata": {},
     "output_type": "execute_result"
    }
   ],
   "source": [
    "t = (1,2,3,4,5)\n",
    "s = tuple([str(i) for i in t])\n",
    "s"
   ]
  },
  {
   "cell_type": "markdown",
   "id": "41d0fe92",
   "metadata": {},
   "source": [
    "29. Convert a tuple of strings to a tuple of integers.\n"
   ]
  },
  {
   "cell_type": "code",
   "execution_count": null,
   "id": "2fa0a4af",
   "metadata": {},
   "outputs": [],
   "source": [
    "t = ('s', 't' , 'r')"
   ]
  },
  {
   "cell_type": "markdown",
   "id": "d569eca5",
   "metadata": {},
   "source": [
    "30. Merge two tuples.\n"
   ]
  },
  {
   "cell_type": "code",
   "execution_count": 2,
   "id": "d41e4f7f",
   "metadata": {},
   "outputs": [
    {
     "name": "stdout",
     "output_type": "stream",
     "text": [
      "(1, 2, 3)\n"
     ]
    },
    {
     "data": {
      "text/plain": [
       "tuple"
      ]
     },
     "execution_count": 2,
     "metadata": {},
     "output_type": "execute_result"
    }
   ],
   "source": [
    "a = (1,2,3)\n",
    "b= (4,5,6)\n",
    "print(a)\n",
    "type(a)"
   ]
  },
  {
   "cell_type": "markdown",
   "id": "773d37ae",
   "metadata": {},
   "source": [
    "31. Flatten a nested tuple.\n"
   ]
  },
  {
   "cell_type": "code",
   "execution_count": 4,
   "id": "05a697ab",
   "metadata": {},
   "outputs": [
    {
     "data": {
      "text/plain": [
       "(1, 2, 3, 4, 5, 6, 7, 8, 9)"
      ]
     },
     "execution_count": 4,
     "metadata": {},
     "output_type": "execute_result"
    }
   ],
   "source": [
    "a = ((1,2,3),(4,5,6),(7,8,9))\n",
    "b = tuple([e for i in a for e in i])\n",
    "b"
   ]
  },
  {
   "cell_type": "markdown",
   "id": "c4e023ad",
   "metadata": {},
   "source": [
    "32. Create a tuple of the first 5 prime numbers.\n"
   ]
  },
  {
   "cell_type": "code",
   "execution_count": 9,
   "id": "716a9af2",
   "metadata": {},
   "outputs": [
    {
     "name": "stdout",
     "output_type": "stream",
     "text": [
      "(2, 3, 5, 7, 11)\n"
     ]
    }
   ],
   "source": [
    "def is_prime(n):\n",
    "    if n <= 1:\n",
    "        return False\n",
    "    for i in range(2, int(n**0.5) + 1):\n",
    "        if n % i == 0:\n",
    "            return False\n",
    "    return True\n",
    "\n",
    "primes = []\n",
    "\n",
    "num = 2\n",
    "for _ in range(5):  \n",
    "    while not is_prime(num):\n",
    "        num += 1\n",
    "    primes.append(num)\n",
    "    num += 1\n",
    "\n",
    "prime_tuple = tuple(primes)\n",
    "print(prime_tuple)  "
   ]
  },
  {
   "cell_type": "markdown",
   "id": "34dfbe09",
   "metadata": {},
   "source": [
    "33. Check if a tuple is a palindrome.\n"
   ]
  },
  {
   "cell_type": "code",
   "execution_count": 7,
   "id": "a3105c52",
   "metadata": {},
   "outputs": [
    {
     "name": "stdout",
     "output_type": "stream",
     "text": [
      "True\n"
     ]
    }
   ],
   "source": [
    "a = (1,2,3,2,1)\n",
    "if a==a[::-1]:\n",
    "    print(True)\n",
    "else:\n",
    "    print(False)"
   ]
  },
  {
   "cell_type": "markdown",
   "id": "8b834ac2",
   "metadata": {},
   "source": [
    "34. Create a tuple of squares of numbers from 1 to 5.\n"
   ]
  },
  {
   "cell_type": "code",
   "execution_count": 12,
   "id": "bfabb76b",
   "metadata": {},
   "outputs": [
    {
     "data": {
      "text/plain": [
       "(1, 4, 9, 16, 25)"
      ]
     },
     "execution_count": 12,
     "metadata": {},
     "output_type": "execute_result"
    }
   ],
   "source": [
    "l = []\n",
    "for i in range(1,6):\n",
    "    s = i**2\n",
    "    l.append(s)\n",
    "    \n",
    "tuple(l)\n",
    "\n",
    "    \n",
    "    "
   ]
  },
  {
   "cell_type": "markdown",
   "id": "5e1e9118",
   "metadata": {},
   "source": [
    "35. Filter out all even numbers from a tuple.\n"
   ]
  },
  {
   "cell_type": "code",
   "execution_count": 13,
   "id": "b13e4b97",
   "metadata": {},
   "outputs": [
    {
     "name": "stdout",
     "output_type": "stream",
     "text": [
      "2\n",
      "4\n",
      "6\n",
      "8\n"
     ]
    }
   ],
   "source": [
    "t = (1,2,3,4,5,6,7,8,9)\n",
    "for i in t:\n",
    "    if i%2 == 0:\n",
    "        print(i)"
   ]
  },
  {
   "cell_type": "markdown",
   "id": "971c646e",
   "metadata": {},
   "source": [
    "36. Multiply all elements in a tuple by 2."
   ]
  },
  {
   "cell_type": "code",
   "execution_count": 14,
   "id": "42f12817",
   "metadata": {},
   "outputs": [
    {
     "name": "stdout",
     "output_type": "stream",
     "text": [
      "(2, 4, 6, 8, 10, 12, 14, 16, 18)\n"
     ]
    }
   ],
   "source": [
    "t = (1,2,3,4,5,6,7,8,9)\n",
    "l = []\n",
    "for i in t:\n",
    "    r = i * 2\n",
    "    l.append(r)\n",
    "print(tuple(l))\n",
    "\n",
    "    "
   ]
  },
  {
   "cell_type": "markdown",
   "id": "2ad23101",
   "metadata": {},
   "source": [
    "37. Create a tuple of random numbers.\n"
   ]
  },
  {
   "cell_type": "code",
   "execution_count": 17,
   "id": "f2e4483c",
   "metadata": {},
   "outputs": [
    {
     "name": "stdout",
     "output_type": "stream",
     "text": [
      "(10, 70, 40, 51, 22, 49)\n"
     ]
    }
   ],
   "source": [
    "import random\n",
    "l = []\n",
    "for i in range(6):\n",
    "    s= random.randint(0, 100)\n",
    "    l.append(s)\n",
    "print(tuple(l))\n",
    "    \n",
    "    \n",
    "    "
   ]
  },
  {
   "cell_type": "markdown",
   "id": "77654c46",
   "metadata": {},
   "source": [
    "38. Check if a tuple is sorted.\n"
   ]
  },
  {
   "cell_type": "code",
   "execution_count": 32,
   "id": "2cd76de2",
   "metadata": {},
   "outputs": [
    {
     "name": "stdout",
     "output_type": "stream",
     "text": [
      "False\n"
     ]
    }
   ],
   "source": [
    "t = (1,2,3,4,5,6,7,8,9,11,10)\n",
    " \n",
    "if t == tuple(sorted(t)):\n",
    "    \n",
    "    print(True)\n",
    "else:\n",
    "    \n",
    "    print(False)\n"
   ]
  },
  {
   "cell_type": "markdown",
   "id": "8a2e512c",
   "metadata": {},
   "source": [
    "39. Rotate a tuple to the left by `n` positions.\n"
   ]
  },
  {
   "cell_type": "code",
   "execution_count": 33,
   "id": "8b2fa942",
   "metadata": {},
   "outputs": [
    {
     "name": "stdout",
     "output_type": "stream",
     "text": [
      "(3, 4, 5, 1, 2)\n"
     ]
    }
   ],
   "source": [
    "def rotate_left(t, n):\n",
    "    n = n % len(t)  \n",
    "    return t[n:] + t[:n]\n",
    "\n",
    "\n",
    "t = (1, 2, 3, 4, 5)\n",
    "rotated = rotate_left(t, 2)\n",
    "print(rotated)  \n"
   ]
  },
  {
   "cell_type": "markdown",
   "id": "e91172a4",
   "metadata": {},
   "source": [
    "40. Rotate a tuple to the right by `n` positions.\n"
   ]
  },
  {
   "cell_type": "code",
   "execution_count": 34,
   "id": "80b54c29",
   "metadata": {},
   "outputs": [
    {
     "name": "stdout",
     "output_type": "stream",
     "text": [
      "(4, 5, 1, 2, 3)\n"
     ]
    }
   ],
   "source": [
    "def rotate_right(t, n):\n",
    "    n = n % len(t)  \n",
    "    return t[-n:] + t[:-n]\n",
    "\n",
    "\n",
    "t = (1, 2, 3, 4, 5)\n",
    "rotated = rotate_right(t, 2)\n",
    "print(rotated)  \n"
   ]
  },
  {
   "cell_type": "markdown",
   "id": "6fe7f1db",
   "metadata": {},
   "source": [
    "41. Create a tuple of the first 5 Fibonacci numbers.\n"
   ]
  },
  {
   "cell_type": "code",
   "execution_count": 35,
   "id": "02026082",
   "metadata": {},
   "outputs": [
    {
     "name": "stdout",
     "output_type": "stream",
     "text": [
      "(0, 1, 1, 2, 3)\n"
     ]
    }
   ],
   "source": [
    "def generate_fibonacci(n):\n",
    "    \n",
    "    if n <= 0:\n",
    "        return []\n",
    "    elif n == 1:\n",
    "        return [0]\n",
    "    elif n == 2:\n",
    "        return [0, 1]\n",
    "\n",
    "    fib_sequence = [0, 1]\n",
    "    for _ in range(2, n):\n",
    "        next_fib = fib_sequence[-1] + fib_sequence[-2]\n",
    "        fib_sequence.append(next_fib)\n",
    "    return fib_sequence\n",
    "\n",
    "fibonacci_tuple = tuple(generate_fibonacci(5))\n",
    "print(fibonacci_tuple) \n"
   ]
  },
  {
   "cell_type": "markdown",
   "id": "d3b8f82f",
   "metadata": {},
   "source": [
    "42. Create a tuple from user input.\n"
   ]
  },
  {
   "cell_type": "code",
   "execution_count": 46,
   "id": "c232b439",
   "metadata": {},
   "outputs": [
    {
     "name": "stdout",
     "output_type": "stream",
     "text": [
      "Enter comma seprated values: ch, noi,python\n",
      "('ch', ' noi', 'python')\n"
     ]
    }
   ],
   "source": [
    "a = input(\"Enter comma seprated values: \")\n",
    "b = tuple(a.split(','))\n",
    "print(b)"
   ]
  },
  {
   "cell_type": "markdown",
   "id": "2ede14ed",
   "metadata": {},
   "source": [
    "43. Swap two elements in a tuple.\n"
   ]
  },
  {
   "cell_type": "code",
   "execution_count": 48,
   "id": "65593ddc",
   "metadata": {},
   "outputs": [
    {
     "name": "stdout",
     "output_type": "stream",
     "text": [
      "(1, 4, 3, 2, 5)\n"
     ]
    }
   ],
   "source": [
    "def swap_elements_in_tuple(t, index1, index2):\n",
    "    lst = list(t)\n",
    "    lst[index1], lst[index2] = lst[index2], lst[index1]\n",
    "    \n",
    "    return tuple(lst)\n",
    "\n",
    "t = (1, 2, 3, 4, 5)\n",
    "\n",
    "swapped = swap_elements_in_tuple(t, 1, 3)\n",
    "print(swapped) "
   ]
  },
  {
   "cell_type": "markdown",
   "id": "7bdb9a25",
   "metadata": {},
   "source": [
    "44. Reverse the elements of a tuple.\n"
   ]
  },
  {
   "cell_type": "code",
   "execution_count": 50,
   "id": "2b81f866",
   "metadata": {},
   "outputs": [
    {
     "data": {
      "text/plain": [
       "(9, 8, 7, 6, 5, 4, 3, 2, 1)"
      ]
     },
     "execution_count": 50,
     "metadata": {},
     "output_type": "execute_result"
    }
   ],
   "source": [
    "t = (1,2,3,4,5,6,7,8,9)\n",
    "t[::-1]\n"
   ]
  },
  {
   "cell_type": "markdown",
   "id": "c945c660",
   "metadata": {},
   "source": [
    "45. Create a tuple of the first `n` powers of 2.\n"
   ]
  },
  {
   "cell_type": "code",
   "execution_count": 51,
   "id": "2cf611c1",
   "metadata": {},
   "outputs": [
    {
     "name": "stdout",
     "output_type": "stream",
     "text": [
      "(1, 2, 4, 8, 16)\n"
     ]
    }
   ],
   "source": [
    "def powers_of_two(n):\n",
    "    return tuple(2**i for i in range(n))\n",
    "\n",
    "n = 5\n",
    "result = powers_of_two(n)\n",
    "print(result)  \n"
   ]
  },
  {
   "cell_type": "markdown",
   "id": "84dd133c",
   "metadata": {},
   "source": [
    "46. Find the longest string in a tuple of strings.\n"
   ]
  },
  {
   "cell_type": "code",
   "execution_count": 52,
   "id": "7ae56810",
   "metadata": {},
   "outputs": [
    {
     "name": "stdout",
     "output_type": "stream",
     "text": [
      "programming\n"
     ]
    }
   ],
   "source": [
    "a = ['apple', 'python','programming', 'name']\n",
    "print(max(a , key=len))"
   ]
  },
  {
   "cell_type": "markdown",
   "id": "dc5d9fd7",
   "metadata": {},
   "source": [
    "47. Find the shortest string in a tuple of strings.\n"
   ]
  },
  {
   "cell_type": "code",
   "execution_count": 53,
   "id": "7ddcf264",
   "metadata": {},
   "outputs": [
    {
     "name": "stdout",
     "output_type": "stream",
     "text": [
      "name\n"
     ]
    }
   ],
   "source": [
    "a = ['apple', 'python','programming', 'name']\n",
    "print(min(a , key=len))"
   ]
  },
  {
   "cell_type": "markdown",
   "id": "2d263a96",
   "metadata": {},
   "source": [
    "48. Create a tuple of the first `n` triangular numbers.\n"
   ]
  },
  {
   "cell_type": "code",
   "execution_count": 55,
   "id": "fe9286c8",
   "metadata": {},
   "outputs": [
    {
     "name": "stdout",
     "output_type": "stream",
     "text": [
      "(1, 3, 6, 10, 15)\n"
     ]
    }
   ],
   "source": [
    "def triangular_numbers(n):\n",
    "    return tuple(i*(i+1)//2 for i in range(1, n+1))\n",
    "\n",
    "n = 5\n",
    "result = triangular_numbers(n)\n",
    "print(result)  \n"
   ]
  },
  {
   "cell_type": "markdown",
   "id": "73f9de6f",
   "metadata": {},
   "source": [
    "49. Check if a tuple contains another tuple as a subsequence.\n"
   ]
  },
  {
   "cell_type": "code",
   "execution_count": 66,
   "id": "505d6b33",
   "metadata": {},
   "outputs": [
    {
     "name": "stdout",
     "output_type": "stream",
     "text": [
      "False\n"
     ]
    }
   ],
   "source": [
    "a = (1,2,3,4,5,6,7,8)\n",
    "b = (5,6,7,8,9)\n",
    "c = 0\n",
    "for i in a:\n",
    "    for e in b:\n",
    "        if i==e:\n",
    "            c+=1\n",
    "    \n",
    "            \n",
    "            \n",
    "if c == len(b):\n",
    "    print(True)\n",
    "else:\n",
    "    print(False)\n",
    "            "
   ]
  },
  {
   "cell_type": "markdown",
   "id": "b2d83f05",
   "metadata": {},
   "source": [
    "50. Create a tuple of alternating 1s and 0s of length `n`."
   ]
  },
  {
   "cell_type": "code",
   "execution_count": 69,
   "id": "c42b61ca",
   "metadata": {},
   "outputs": [
    {
     "name": "stdout",
     "output_type": "stream",
     "text": [
      "(0, 1, 0, 1, 0)\n"
     ]
    }
   ],
   "source": [
    "def alternating_ones_zeros(n):\n",
    "    return tuple((i % 2) for i in range(n))\n",
    "\n",
    "n = 5\n",
    "result = alternating_ones_zeros(n)\n",
    "print(result)  \n"
   ]
  },
  {
   "cell_type": "code",
   "execution_count": null,
   "id": "1c9d83f9",
   "metadata": {},
   "outputs": [],
   "source": []
  },
  {
   "cell_type": "markdown",
   "id": "2a0453b5",
   "metadata": {},
   "source": [
    "# Set Based Practice Problem :"
   ]
  },
  {
   "cell_type": "markdown",
   "id": "3feb2d1c",
   "metadata": {},
   "source": [
    "1. Create a set with integers from 1 to 5.\n"
   ]
  },
  {
   "cell_type": "code",
   "execution_count": 1,
   "id": "40c124eb",
   "metadata": {},
   "outputs": [],
   "source": [
    "s = {1,2,3,4,5}"
   ]
  },
  {
   "cell_type": "markdown",
   "id": "d0cb45b4",
   "metadata": {},
   "source": [
    "2. Add an element to a set.\n"
   ]
  },
  {
   "cell_type": "code",
   "execution_count": 6,
   "id": "1c45e531",
   "metadata": {},
   "outputs": [
    {
     "data": {
      "text/plain": [
       "{1, 2, 3, 4, 5, 6}"
      ]
     },
     "execution_count": 6,
     "metadata": {},
     "output_type": "execute_result"
    }
   ],
   "source": [
    "s.add(6)\n",
    "s"
   ]
  },
  {
   "cell_type": "markdown",
   "id": "6572e0a8",
   "metadata": {},
   "source": [
    "3. Remove an element from a set.\n"
   ]
  },
  {
   "cell_type": "code",
   "execution_count": 7,
   "id": "7c7b045d",
   "metadata": {},
   "outputs": [
    {
     "data": {
      "text/plain": [
       "{1, 2, 3, 4, 5}"
      ]
     },
     "execution_count": 7,
     "metadata": {},
     "output_type": "execute_result"
    }
   ],
   "source": [
    "s.remove(6)\n",
    "s"
   ]
  },
  {
   "cell_type": "markdown",
   "id": "3e453e92",
   "metadata": {},
   "source": [
    "4. Check if an element exists in a set.\n"
   ]
  },
  {
   "cell_type": "code",
   "execution_count": 11,
   "id": "5854cb53",
   "metadata": {},
   "outputs": [
    {
     "name": "stdout",
     "output_type": "stream",
     "text": [
      "False\n"
     ]
    }
   ],
   "source": [
    "a = 9\n",
    "if a in s:\n",
    "    print(True)\n",
    "else:\n",
    "    print(False)"
   ]
  },
  {
   "cell_type": "markdown",
   "id": "4c45dc1c",
   "metadata": {},
   "source": [
    "5. Find the length of a set without using the `len()` function.\n"
   ]
  },
  {
   "cell_type": "code",
   "execution_count": 12,
   "id": "847f8730",
   "metadata": {},
   "outputs": [
    {
     "data": {
      "text/plain": [
       "5"
      ]
     },
     "execution_count": 12,
     "metadata": {},
     "output_type": "execute_result"
    }
   ],
   "source": [
    "c = 0\n",
    "for i in s:\n",
    "    c+=1\n",
    "c\n",
    "    "
   ]
  },
  {
   "cell_type": "markdown",
   "id": "076590e5",
   "metadata": {},
   "source": [
    "6. Clear all elements from a set.\n"
   ]
  },
  {
   "cell_type": "code",
   "execution_count": 14,
   "id": "d719d25b",
   "metadata": {},
   "outputs": [
    {
     "data": {
      "text/plain": [
       "set()"
      ]
     },
     "execution_count": 14,
     "metadata": {},
     "output_type": "execute_result"
    }
   ],
   "source": [
    "s.clear()\n",
    "s\n"
   ]
  },
  {
   "cell_type": "markdown",
   "id": "a3986ce1",
   "metadata": {},
   "source": [
    "7. Create a set of even numbers from 1 to 10.\n"
   ]
  },
  {
   "cell_type": "code",
   "execution_count": 17,
   "id": "fe884018",
   "metadata": {},
   "outputs": [
    {
     "data": {
      "text/plain": [
       "{2, 4, 6, 8, 10}"
      ]
     },
     "execution_count": 17,
     "metadata": {},
     "output_type": "execute_result"
    }
   ],
   "source": [
    "for i in range(2,11,2):\n",
    "    s.add(i)\n",
    "s"
   ]
  },
  {
   "cell_type": "markdown",
   "id": "7e954fe9",
   "metadata": {},
   "source": [
    "8. Create a set of odd numbers from 1 to 10.\n",
    "\n"
   ]
  },
  {
   "cell_type": "code",
   "execution_count": 23,
   "id": "1d47e54e",
   "metadata": {},
   "outputs": [
    {
     "data": {
      "text/plain": [
       "{1, 3, 5, 7, 9}"
      ]
     },
     "execution_count": 23,
     "metadata": {},
     "output_type": "execute_result"
    }
   ],
   "source": [
    "p=set()\n",
    "for i in range(1,11,2):\n",
    "    p.add(i)\n",
    "p"
   ]
  },
  {
   "cell_type": "markdown",
   "id": "9514c275",
   "metadata": {},
   "source": [
    "9. Find the union of two sets.\n"
   ]
  },
  {
   "cell_type": "code",
   "execution_count": 32,
   "id": "3eb86e97",
   "metadata": {},
   "outputs": [
    {
     "data": {
      "text/plain": [
       "{1, 2, 3, 4, 5, 6}"
      ]
     },
     "execution_count": 32,
     "metadata": {},
     "output_type": "execute_result"
    }
   ],
   "source": [
    "a = {1,2,3,4}\n",
    "b = {4,5,6}\n",
    "a.union(b)"
   ]
  },
  {
   "cell_type": "markdown",
   "id": "5e3eb163",
   "metadata": {},
   "source": [
    "10. Find the intersection of two sets.\n"
   ]
  },
  {
   "cell_type": "code",
   "execution_count": 33,
   "id": "544e0e83",
   "metadata": {},
   "outputs": [
    {
     "data": {
      "text/plain": [
       "{4}"
      ]
     },
     "execution_count": 33,
     "metadata": {},
     "output_type": "execute_result"
    }
   ],
   "source": [
    "a.intersection(b)"
   ]
  },
  {
   "cell_type": "markdown",
   "id": "6eb43210",
   "metadata": {},
   "source": [
    "11. Find the difference between two sets.\n"
   ]
  },
  {
   "cell_type": "code",
   "execution_count": 34,
   "id": "86c6c94c",
   "metadata": {},
   "outputs": [
    {
     "name": "stdout",
     "output_type": "stream",
     "text": [
      "{1}\n",
      "{0}\n"
     ]
    }
   ],
   "source": [
    "a = {1,2,3,4}\n",
    "b = {3,2,4,0}\n",
    "print(a.difference(b))\n",
    "print(b.difference(a))\n",
    "\n"
   ]
  },
  {
   "cell_type": "markdown",
   "id": "049b3a30",
   "metadata": {},
   "source": [
    "12. Check if a set is a subset of another set.\n"
   ]
  },
  {
   "cell_type": "code",
   "execution_count": 42,
   "id": "0a0b3c2e",
   "metadata": {},
   "outputs": [
    {
     "name": "stdout",
     "output_type": "stream",
     "text": [
      "True\n"
     ]
    }
   ],
   "source": [
    "a = {1,2,3,4,5,6}\n",
    "b = {1,2,3}\n",
    "c = 0\n",
    "for i in a:\n",
    "    for e in b:\n",
    "        if e == i:\n",
    "            c+=1\n",
    "if c == len(b):\n",
    "    print(True) \n",
    "else:\n",
    "    print(False)"
   ]
  },
  {
   "cell_type": "markdown",
   "id": "f10d6525",
   "metadata": {},
   "source": [
    "13. Check if a set is a superset of another set.\n"
   ]
  },
  {
   "cell_type": "code",
   "execution_count": 45,
   "id": "d8cccd03",
   "metadata": {},
   "outputs": [
    {
     "name": "stdout",
     "output_type": "stream",
     "text": [
      "False\n"
     ]
    }
   ],
   "source": [
    "a = {1,2,3,4,5}\n",
    "b = {4,5,6}\n",
    "print(a.issuperset(b))"
   ]
  },
  {
   "cell_type": "markdown",
   "id": "96b2c003",
   "metadata": {},
   "source": [
    "14. Create a set from a list.\n"
   ]
  },
  {
   "cell_type": "code",
   "execution_count": 36,
   "id": "09b6f831",
   "metadata": {},
   "outputs": [
    {
     "name": "stdout",
     "output_type": "stream",
     "text": [
      "{1, 2, 3, 4, 5}\n"
     ]
    }
   ],
   "source": [
    "a = [1,2,3,4,5]\n",
    "print(set(a))"
   ]
  },
  {
   "cell_type": "markdown",
   "id": "7f11efca",
   "metadata": {},
   "source": [
    "15. Convert a set to a list.\n"
   ]
  },
  {
   "cell_type": "code",
   "execution_count": 37,
   "id": "0a3ee735",
   "metadata": {},
   "outputs": [
    {
     "data": {
      "text/plain": [
       "[1, 2, 3]"
      ]
     },
     "execution_count": 37,
     "metadata": {},
     "output_type": "execute_result"
    }
   ],
   "source": [
    "a = {1,2,3}\n",
    "list(a)"
   ]
  },
  {
   "cell_type": "markdown",
   "id": "1b3a0be9",
   "metadata": {},
   "source": [
    "16. Remove a random element from a set.\n"
   ]
  },
  {
   "cell_type": "code",
   "execution_count": 71,
   "id": "5f55350f",
   "metadata": {},
   "outputs": [
    {
     "data": {
      "text/plain": [
       "{1, 3, 4, 5, 6}"
      ]
     },
     "execution_count": 71,
     "metadata": {},
     "output_type": "execute_result"
    }
   ],
   "source": [
    "import random\n",
    "s = {1,2,3,4,5,6}\n",
    "d = random.choice (list(s))\n",
    "s.remove(d)\n",
    "s"
   ]
  },
  {
   "cell_type": "markdown",
   "id": "9d7255f5",
   "metadata": {},
   "source": [
    "17. Pop an element from a set.\n"
   ]
  },
  {
   "cell_type": "code",
   "execution_count": 76,
   "id": "bfad3043",
   "metadata": {},
   "outputs": [
    {
     "name": "stdout",
     "output_type": "stream",
     "text": [
      "1\n"
     ]
    }
   ],
   "source": [
    "d = {1,2,3,4,5,6}\n",
    "print(d.pop())"
   ]
  },
  {
   "cell_type": "markdown",
   "id": "acf04ff8",
   "metadata": {},
   "source": [
    "18. Check if two sets have no elements in common.\n"
   ]
  },
  {
   "cell_type": "code",
   "execution_count": 15,
   "id": "70818b6a",
   "metadata": {},
   "outputs": [
    {
     "name": "stdout",
     "output_type": "stream",
     "text": [
      "Sets have common elements\n"
     ]
    }
   ],
   "source": [
    "a = {1,2,3,4,5}\n",
    "b = {5,6,7,8}\n",
    "if a.intersection(b) != set():\n",
    "    print(\"Sets have common elements\")\n",
    "else:\n",
    "    print(\"Sets doesnt have common element \")"
   ]
  },
  {
   "cell_type": "markdown",
   "id": "56a26eb1",
   "metadata": {},
   "source": [
    "19. Find the symmetric difference between two sets.\n"
   ]
  },
  {
   "cell_type": "code",
   "execution_count": 17,
   "id": "6d34b448",
   "metadata": {},
   "outputs": [
    {
     "name": "stdout",
     "output_type": "stream",
     "text": [
      "{1, 2, 5, 6}\n"
     ]
    }
   ],
   "source": [
    "setA = {1, 2, 3, 4}\n",
    "setB = {3, 4, 5, 6}\n",
    "\n",
    "sym_diff = setA ^ setB\n",
    "print(sym_diff)  \n"
   ]
  },
  {
   "cell_type": "markdown",
   "id": "0d873b9e",
   "metadata": {},
   "source": [
    "20. Update a set with elements from another set.\n"
   ]
  },
  {
   "cell_type": "code",
   "execution_count": 23,
   "id": "89d79372",
   "metadata": {},
   "outputs": [
    {
     "data": {
      "text/plain": [
       "{1, 2, 3, 4, 5, 6, 7}"
      ]
     },
     "execution_count": 23,
     "metadata": {},
     "output_type": "execute_result"
    }
   ],
   "source": [
    "a = {1,2,3,4,5}\n",
    "b = {6,7}\n",
    "a.update(b)\n",
    "a"
   ]
  },
  {
   "cell_type": "markdown",
   "id": "e40ee208",
   "metadata": {},
   "source": [
    "21. Create a set of the first 5 prime numbers.\n"
   ]
  },
  {
   "cell_type": "code",
   "execution_count": null,
   "id": "a8760104",
   "metadata": {},
   "outputs": [],
   "source": [
    "def is_prime(num):\n",
    "    if num < 2:\n",
    "        return False\n",
    "    for i in range(2, int(num**0.5) + 1):\n",
    "        if num % i == 0:\n",
    "            return False\n",
    "    return True\n",
    "\n",
    "prime_numbers = set()\n",
    "num = 2\n",
    "while len(prime_numbers) < 5:\n",
    "    if is_prime(num):\n",
    "        prime_numbers.add(num)\n",
    "    num += 1\n",
    "\n",
    "print(prime_numbers)\n"
   ]
  },
  {
   "cell_type": "markdown",
   "id": "278c8ba5",
   "metadata": {},
   "source": [
    "22. Check if two sets are identical.\n"
   ]
  },
  {
   "cell_type": "code",
   "execution_count": 28,
   "id": "6ac6453d",
   "metadata": {},
   "outputs": [
    {
     "name": "stdout",
     "output_type": "stream",
     "text": [
      "These sets are identical\n"
     ]
    }
   ],
   "source": [
    "a = {1,2,3,4}\n",
    "b = {1,2,3,4}\n",
    "\n",
    "if a ==b:\n",
    "    print(\"These sets are identical\")\n",
    "else:\n",
    "    print(\"These sets are not identical\")"
   ]
  },
  {
   "cell_type": "markdown",
   "id": "eb1344cb",
   "metadata": {},
   "source": [
    "23. Create a frozen set.\n"
   ]
  },
  {
   "cell_type": "code",
   "execution_count": 30,
   "id": "9181131d",
   "metadata": {},
   "outputs": [
    {
     "name": "stdout",
     "output_type": "stream",
     "text": [
      "frozenset({1, 2, 3, 4})\n"
     ]
    }
   ],
   "source": [
    "print(frozenset(a))"
   ]
  },
  {
   "cell_type": "markdown",
   "id": "4c321864",
   "metadata": {},
   "source": [
    "24. Check if a set is disjoint with another set.\n"
   ]
  },
  {
   "cell_type": "code",
   "execution_count": 31,
   "id": "69ea0699",
   "metadata": {},
   "outputs": [
    {
     "data": {
      "text/plain": [
       "False"
      ]
     },
     "execution_count": 31,
     "metadata": {},
     "output_type": "execute_result"
    }
   ],
   "source": [
    "a = {1,2,3,4,5,6}\n",
    "b = {1,2,3,4}\n",
    "a.isdisjoint(b)"
   ]
  },
  {
   "cell_type": "markdown",
   "id": "d33841db",
   "metadata": {},
   "source": [
    "25. Create a set of squares of numbers from 1 to 5.\n"
   ]
  },
  {
   "cell_type": "code",
   "execution_count": 32,
   "id": "8bdd86b2",
   "metadata": {},
   "outputs": [
    {
     "name": "stdout",
     "output_type": "stream",
     "text": [
      "{1, 4, 9, 16, 25}\n"
     ]
    }
   ],
   "source": [
    "a = []\n",
    "for i in range(1,6):\n",
    "    a.append(i**2)\n",
    "print(set(a))"
   ]
  },
  {
   "cell_type": "markdown",
   "id": "2a816fc9",
   "metadata": {},
   "source": [
    "26. Filter out all even numbers from a set.\n"
   ]
  },
  {
   "cell_type": "code",
   "execution_count": 33,
   "id": "57ce3f1a",
   "metadata": {},
   "outputs": [
    {
     "name": "stdout",
     "output_type": "stream",
     "text": [
      "2\n",
      "4\n",
      "6\n"
     ]
    }
   ],
   "source": [
    "a ={1,2,3,4,5,6,7,7}\n",
    "for i in a :\n",
    "    if i%2==0:\n",
    "        print(i)"
   ]
  },
  {
   "cell_type": "markdown",
   "id": "64fe7aa5",
   "metadata": {},
   "source": [
    "27. Multiply all elements in a set by 2.\n"
   ]
  },
  {
   "cell_type": "code",
   "execution_count": 34,
   "id": "f6092497",
   "metadata": {},
   "outputs": [
    {
     "name": "stdout",
     "output_type": "stream",
     "text": [
      "{2, 4, 6, 8, 10, 12, 14}\n"
     ]
    }
   ],
   "source": [
    "a ={1,2,3,4,5,6,7,7}\n",
    "l=[]\n",
    "for i in a:\n",
    "    l.append(i*2)\n",
    "print(set(l))"
   ]
  },
  {
   "cell_type": "markdown",
   "id": "10df7389",
   "metadata": {},
   "source": [
    "28. Create a set of random numbers.\n"
   ]
  },
  {
   "cell_type": "code",
   "execution_count": 42,
   "id": "570783bf",
   "metadata": {},
   "outputs": [
    {
     "name": "stdout",
     "output_type": "stream",
     "text": [
      "Enter length: 4\n",
      "{8, 9, 2, 3}\n"
     ]
    }
   ],
   "source": [
    "import random\n",
    "a =int(input(\"Enter length: \"))\n",
    "l = []\n",
    "for i in range(a+1):\n",
    "    s = random.randint(1,10)\n",
    "    l.append(s)\n",
    "print(set(l))"
   ]
  },
  {
   "cell_type": "markdown",
   "id": "0a237b92",
   "metadata": {},
   "source": [
    "29. Check if a set is empty.\n"
   ]
  },
  {
   "cell_type": "code",
   "execution_count": 47,
   "id": "44773dd7",
   "metadata": {},
   "outputs": [
    {
     "name": "stdout",
     "output_type": "stream",
     "text": [
      "False\n"
     ]
    }
   ],
   "source": [
    "s={1,23}\n",
    "if s == set():\n",
    "    print(True)\n",
    "else:\n",
    "    print(False)"
   ]
  },
  {
   "cell_type": "markdown",
   "id": "1e87abe1",
   "metadata": {},
   "source": [
    "30. Create a nested set (hint: use frozenset).\n"
   ]
  },
  {
   "cell_type": "code",
   "execution_count": 49,
   "id": "dfd7f92d",
   "metadata": {},
   "outputs": [
    {
     "name": "stdout",
     "output_type": "stream",
     "text": [
      "{frozenset({1, 2, 3}), frozenset({4, 5, 6})}\n"
     ]
    }
   ],
   "source": [
    "f1 = frozenset([1, 2, 3])\n",
    "f2 = frozenset([4, 5, 6])\n",
    "\n",
    "nested_set = {f1, f2}\n",
    "\n",
    "print(nested_set)\n"
   ]
  },
  {
   "cell_type": "markdown",
   "id": "538ecece",
   "metadata": {},
   "source": [
    "31. Remove an element from a set using the discard method."
   ]
  },
  {
   "cell_type": "code",
   "execution_count": 53,
   "id": "13b5e7a6",
   "metadata": {},
   "outputs": [
    {
     "data": {
      "text/plain": [
       "{1, 3}"
      ]
     },
     "execution_count": 53,
     "metadata": {},
     "output_type": "execute_result"
    }
   ],
   "source": [
    "s ={1,2,3}\n",
    "s.discard(2)\n",
    "s"
   ]
  },
  {
   "cell_type": "markdown",
   "id": "b9c7ff7c",
   "metadata": {},
   "source": [
    "32. Compare two sets.\n"
   ]
  },
  {
   "cell_type": "code",
   "execution_count": 55,
   "id": "a5202774",
   "metadata": {},
   "outputs": [
    {
     "name": "stdout",
     "output_type": "stream",
     "text": [
      "Set 1: {1, 2, 3, 4, 5, 8, 9}\n",
      "Set 2: {4, 5, 6, 7, 8}\n",
      "Is set1 a subset of set2? False\n",
      "Is set2 a subset of set1? False\n",
      "Intersection: {8, 4, 5}\n",
      "Union: {1, 2, 3, 4, 5, 6, 7, 8, 9}\n",
      "Elements in set1 but not in set2: {1, 2, 3, 9}\n",
      "Elements in set2 but not in set1: {6, 7}\n"
     ]
    }
   ],
   "source": [
    "set1 = {1, 2, 3, 4, 5,9,8}\n",
    "set2 = {4, 5, 6, 7, 8,4,6}\n",
    "\n",
    "\n",
    "is_subset = set1.issubset(set2)\n",
    "is_superset = set1.issuperset(set2)\n",
    "intersection = set1.intersection(set2)\n",
    "union = set1.union(set2)\n",
    "\n",
    "difference1 = set1.difference(set2)\n",
    "difference2 = set2.difference(set1)\n",
    "\n",
    "print(\"Set 1:\", set1)\n",
    "print(\"Set 2:\", set2)\n",
    "print(\"Is set1 a subset of set2?\", is_subset)\n",
    "print(\"Is set2 a subset of set1?\", is_superset)\n",
    "print(\"Intersection:\", intersection)\n",
    "print(\"Union:\", union)\n",
    "print(\"Elements in set1 but not in set2:\", difference1)\n",
    "print(\"Elements in set2 but not in set1:\", difference2)"
   ]
  },
  {
   "cell_type": "markdown",
   "id": "78ca303c",
   "metadata": {},
   "source": [
    "33. Create a set from a string.\n"
   ]
  },
  {
   "cell_type": "code",
   "execution_count": 56,
   "id": "7e93ec49",
   "metadata": {},
   "outputs": [
    {
     "data": {
      "text/plain": [
       "{'g', 'i', 'n', 'r', 's', 't'}"
      ]
     },
     "execution_count": 56,
     "metadata": {},
     "output_type": "execute_result"
    }
   ],
   "source": [
    "s = \"string\"\n",
    "set(s)"
   ]
  },
  {
   "cell_type": "markdown",
   "id": "af3b98fe",
   "metadata": {},
   "source": [
    "34. Convert a set of strings to a set of integers.\n"
   ]
  },
  {
   "cell_type": "code",
   "execution_count": 62,
   "id": "387ac693",
   "metadata": {},
   "outputs": [
    {
     "data": {
      "text/plain": [
       "{12, 34, 56}"
      ]
     },
     "execution_count": 62,
     "metadata": {},
     "output_type": "execute_result"
    }
   ],
   "source": [
    "s ={\"12\",\"34\",\"56\"}\n",
    "a = []\n",
    "for i in s:\n",
    "    a.append(int(i))\n",
    "    \n",
    "set(a)\n",
    "    \n"
   ]
  },
  {
   "cell_type": "markdown",
   "id": "127d49b8",
   "metadata": {},
   "source": [
    "35. Convert a set of integers to a set of strings.\n"
   ]
  },
  {
   "cell_type": "code",
   "execution_count": 65,
   "id": "bbdd9bb2",
   "metadata": {},
   "outputs": [
    {
     "name": "stdout",
     "output_type": "stream",
     "text": [
      "{'1', '3', '4', '2'}\n"
     ]
    }
   ],
   "source": [
    "a ={1,2,3,4}\n",
    "b = []\n",
    "for i in a:\n",
    "    b.append(str(i))\n",
    "print(set(b))"
   ]
  },
  {
   "cell_type": "markdown",
   "id": "54b29d33",
   "metadata": {},
   "source": [
    "36. Create a set from a tuple.\n"
   ]
  },
  {
   "cell_type": "code",
   "execution_count": 66,
   "id": "febbfc7a",
   "metadata": {},
   "outputs": [
    {
     "data": {
      "text/plain": [
       "{1, 2, 3, 4}"
      ]
     },
     "execution_count": 66,
     "metadata": {},
     "output_type": "execute_result"
    }
   ],
   "source": [
    "a = (1,2,3,4)\n",
    "set(a)"
   ]
  },
  {
   "cell_type": "markdown",
   "id": "d7a10e1d",
   "metadata": {},
   "source": [
    "37. Convert a set to a tuple.\n"
   ]
  },
  {
   "cell_type": "code",
   "execution_count": 69,
   "id": "f4d1fe9d",
   "metadata": {},
   "outputs": [
    {
     "data": {
      "text/plain": [
       "{1, 2, 3}"
      ]
     },
     "execution_count": 69,
     "metadata": {},
     "output_type": "execute_result"
    }
   ],
   "source": [
    "s = (1,2,3)\n",
    "set(s)"
   ]
  },
  {
   "cell_type": "markdown",
   "id": "66d02b5d",
   "metadata": {},
   "source": [
    "38. Find the maximum value in a set.\n"
   ]
  },
  {
   "cell_type": "code",
   "execution_count": 71,
   "id": "834f039a",
   "metadata": {},
   "outputs": [
    {
     "data": {
      "text/plain": [
       "4"
      ]
     },
     "execution_count": 71,
     "metadata": {},
     "output_type": "execute_result"
    }
   ],
   "source": [
    "s = (1,4,2,3)\n",
    "max(s)"
   ]
  },
  {
   "cell_type": "markdown",
   "id": "fb9aae11",
   "metadata": {},
   "source": [
    "39. Find the minimum value in a set.\n"
   ]
  },
  {
   "cell_type": "code",
   "execution_count": 72,
   "id": "a797a3c2",
   "metadata": {},
   "outputs": [
    {
     "data": {
      "text/plain": [
       "3"
      ]
     },
     "execution_count": 72,
     "metadata": {},
     "output_type": "execute_result"
    }
   ],
   "source": [
    "s = (8,4,5,3,4)\n",
    "min(s)"
   ]
  },
  {
   "cell_type": "markdown",
   "id": "970eab3b",
   "metadata": {},
   "source": [
    "40. Create a set from user input.\n"
   ]
  },
  {
   "cell_type": "code",
   "execution_count": 2,
   "id": "f5e7ed1b",
   "metadata": {},
   "outputs": [
    {
     "name": "stdout",
     "output_type": "stream",
     "text": [
      "Enter elements for the set (type 'done' to finish):\n",
      "> 2\n",
      "> 3\n",
      "> 4\n",
      "> age\n",
      "> done\n"
     ]
    },
    {
     "data": {
      "text/plain": [
       "{'2', '3', '4', 'age'}"
      ]
     },
     "execution_count": 2,
     "metadata": {},
     "output_type": "execute_result"
    }
   ],
   "source": [
    "print(\"Enter elements for the set (type 'done' to finish):\")\n",
    "a = set()\n",
    "while True:\n",
    "    user_input = input(\"> \")\n",
    "    if user_input.lower() == 'done':\n",
    "        break\n",
    "    a.add(user_input)\n",
    "set(a)\n",
    "\n"
   ]
  },
  {
   "cell_type": "markdown",
   "id": "5e9caedc",
   "metadata": {},
   "source": [
    "41. Check if the intersection of two sets is empty.\n"
   ]
  },
  {
   "cell_type": "code",
   "execution_count": 3,
   "id": "0a4fcfa4",
   "metadata": {},
   "outputs": [
    {
     "name": "stdout",
     "output_type": "stream",
     "text": [
      "True\n"
     ]
    }
   ],
   "source": [
    "def is_intersection_empty(set1, set2):\n",
    "    return len(set1.intersection(set2)) == 0\n",
    "a={1,2,3}\n",
    "b={4,5,6}\n",
    "print(is_intersection_empty(a,b))"
   ]
  },
  {
   "cell_type": "markdown",
   "id": "dafc77cd",
   "metadata": {},
   "source": [
    "42. Create a set of the first 5 Fibonacci numbers.\n"
   ]
  },
  {
   "cell_type": "code",
   "execution_count": 9,
   "id": "54247d53",
   "metadata": {},
   "outputs": [
    {
     "name": "stdout",
     "output_type": "stream",
     "text": [
      "{0, 1, 2, 3, 5}\n"
     ]
    }
   ],
   "source": [
    "def generate_fibonacci(n):\n",
    "    fib_sequence = []\n",
    "    a, b = 0, 1\n",
    "    for _ in range(6):\n",
    "        fib_sequence.append(a)\n",
    "        a, b = b, a + b\n",
    "    return fib_sequence\n",
    "\n",
    "fibonacci_5 = generate_fibonacci(5)\n",
    "\n",
    "fibonacci_set = set(fibonacci_5)\n",
    "\n",
    "print(fibonacci_set)\n"
   ]
  },
  {
   "cell_type": "markdown",
   "id": "0a26b496",
   "metadata": {},
   "source": [
    "43. Remove duplicates from a list using sets.\n"
   ]
  },
  {
   "cell_type": "code",
   "execution_count": 21,
   "id": "af2049d0",
   "metadata": {},
   "outputs": [
    {
     "name": "stdout",
     "output_type": "stream",
     "text": [
      "[1, 2, 3, 4, 5]\n"
     ]
    }
   ],
   "source": [
    "s = [1,2,3,3,3,4,4,5,5]\n",
    "print(list(set(s)))"
   ]
  },
  {
   "cell_type": "markdown",
   "id": "a3221086",
   "metadata": {},
   "source": [
    "44. Check if two sets have the same elements, regardless of their count.\n"
   ]
  },
  {
   "cell_type": "code",
   "execution_count": 19,
   "id": "2da7195b",
   "metadata": {},
   "outputs": [
    {
     "name": "stdout",
     "output_type": "stream",
     "text": [
      "there are 6 same elements\n"
     ]
    }
   ],
   "source": [
    "a = {1,2,3,4,4,5,6,7,7}\n",
    "b = {1,2,4,5,6,6,6,7,1,1}\n",
    "c = 0\n",
    "for i in a:\n",
    "    for e in b:\n",
    "        if i ==e:\n",
    "            c +=1\n",
    "print(f\"there are {c} same elements\")"
   ]
  },
  {
   "cell_type": "markdown",
   "id": "c33c5dd0",
   "metadata": {},
   "source": [
    "45. Create a set of the first `n` powers of 2.\n"
   ]
  },
  {
   "cell_type": "code",
   "execution_count": 1,
   "id": "3bde94c8",
   "metadata": {},
   "outputs": [
    {
     "name": "stdout",
     "output_type": "stream",
     "text": [
      "Enter the value of n: 3\n",
      "{1, 2, 4}\n"
     ]
    }
   ],
   "source": [
    "def powers_of_two(n):\n",
    "    return {2**i for i in range(n)}\n",
    "\n",
    "n = int(input(\"Enter the value of n: \"))\n",
    "print(powers_of_two(n))\n"
   ]
  },
  {
   "cell_type": "markdown",
   "id": "2ccc65f3",
   "metadata": {},
   "source": [
    "46. Find the common elements between a set and a list.\n"
   ]
  },
  {
   "cell_type": "code",
   "execution_count": 4,
   "id": "d6a93914",
   "metadata": {},
   "outputs": [
    {
     "name": "stdout",
     "output_type": "stream",
     "text": [
      "4\n",
      "5\n"
     ]
    }
   ],
   "source": [
    "a = [1,2,3,4,5]\n",
    "b = {4,5,6,7,8}\n",
    "\n",
    "for i in a:\n",
    "    for e in b:\n",
    "        if i==e:\n",
    "            print(i)"
   ]
  },
  {
   "cell_type": "markdown",
   "id": "72b76d85",
   "metadata": {},
   "source": [
    "47. Create a set of the first `n` triangular numbers."
   ]
  },
  {
   "cell_type": "code",
   "execution_count": 5,
   "id": "ebd1ce74",
   "metadata": {},
   "outputs": [
    {
     "name": "stdout",
     "output_type": "stream",
     "text": [
      "Enter the value of n: 4\n",
      "{1, 10, 3, 6}\n"
     ]
    }
   ],
   "source": [
    "def triangular_numbers(n):\n",
    "    return {i * (i + 1) // 2 for i in range(1, n + 1)}\n",
    "\n",
    "n = int(input(\"Enter the value of n: \"))\n",
    "print(triangular_numbers(n))\n"
   ]
  },
  {
   "cell_type": "markdown",
   "id": "037b4369",
   "metadata": {},
   "source": [
    "48. Check if a set contains another set as a subset.\n"
   ]
  },
  {
   "cell_type": "code",
   "execution_count": 8,
   "id": "3d857d50",
   "metadata": {},
   "outputs": [
    {
     "name": "stdout",
     "output_type": "stream",
     "text": [
      "True\n"
     ]
    }
   ],
   "source": [
    "a = {1,2,3,4,5}\n",
    "b = {4,5}\n",
    "print(b.issubset(a))"
   ]
  },
  {
   "cell_type": "markdown",
   "id": "58c53575",
   "metadata": {},
   "source": [
    "49. Create a set of alternating 1s and 0s of length `n`.\n"
   ]
  },
  {
   "cell_type": "code",
   "execution_count": 6,
   "id": "f2bc93ba",
   "metadata": {},
   "outputs": [
    {
     "name": "stdout",
     "output_type": "stream",
     "text": [
      "Enter the value of n: 4\n",
      "[0, 1, 0, 1]\n"
     ]
    }
   ],
   "source": [
    "def alternating_sequence(n):\n",
    "    return [i % 2 for i in range(n)]\n",
    "\n",
    "n = int(input(\"Enter the value of n: \"))\n",
    "print(alternating_sequence(n))\n"
   ]
  },
  {
   "cell_type": "markdown",
   "id": "f5c3099a",
   "metadata": {},
   "source": [
    "50. Merge multiple sets into one.\n"
   ]
  },
  {
   "cell_type": "code",
   "execution_count": 12,
   "id": "155d470c",
   "metadata": {},
   "outputs": [
    {
     "data": {
      "text/plain": [
       "{1, 2, 3, 4, 5, 6, 7, 8, 9, 10, 11, 12}"
      ]
     },
     "execution_count": 12,
     "metadata": {},
     "output_type": "execute_result"
    }
   ],
   "source": [
    "a ={1,2,3,4}\n",
    "b = {5,6,7,8}\n",
    "c ={9,10,11,12}\n",
    "\n",
    "a.union(b,c)"
   ]
  },
  {
   "cell_type": "code",
   "execution_count": null,
   "id": "7c252d9a",
   "metadata": {},
   "outputs": [],
   "source": []
  }
 ],
 "metadata": {
  "kernelspec": {
   "display_name": "Python 3 (ipykernel)",
   "language": "python",
   "name": "python3"
  },
  "language_info": {
   "codemirror_mode": {
    "name": "ipython",
    "version": 3
   },
   "file_extension": ".py",
   "mimetype": "text/x-python",
   "name": "python",
   "nbconvert_exporter": "python",
   "pygments_lexer": "ipython3",
   "version": "3.11.2"
  }
 },
 "nbformat": 4,
 "nbformat_minor": 5
}
